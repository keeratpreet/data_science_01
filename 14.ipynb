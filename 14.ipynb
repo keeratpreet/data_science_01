{
 "cells": [
  {
   "cell_type": "markdown",
   "id": "8bcb5d97-c915-4a25-b41a-4ceec797a016",
   "metadata": {},
   "source": [
    "# solution 1 \n",
    "+ Flask is a micro web framework for Python, designed to be simple and flexible. It allows developers to create web applications quickly and with minimal code. Flask provides the essential tools needed for web development\n",
    "+ Advantages of Flask Framework:\n",
    "1) easy to learn \n",
    "2) flexible \n",
    "3) extensive support of libraries \n",
    "4) Light-weight and minimalistic \n",
    "\n",
    "# solution 2 \n",
    "+ from flask import Flask \n",
    "+ app=Flask(__name__)\n",
    "+ @app.route(\"/\")\n",
    "+ def hello_world():\n",
    "+     return \"Hello World\"\n",
    "\n",
    "# solution 3\n",
    "+ App routing in Flask refers to mapping URLs (web addresses) to functions in the web application. It allows the application to respond to different URLs and execute the corresponding function to generate a response.\n",
    "+ Routes allow developers to define URLs that users can visit in the web application.\n",
    "+ Routes help organize the logic of the web application by associating URLs with specific functions.\n",
    "\n",
    "\n",
    "# solution 4\n"
   ]
  },
  {
   "cell_type": "code",
   "execution_count": 1,
   "id": "540e29e8-863c-4827-b2f8-b29d08088ee3",
   "metadata": {},
   "outputs": [],
   "source": [
    "# from flask import Flask\n",
    "\n",
    "# app = Flask(__name__)\n",
    "\n",
    "# @app.route('/')\n",
    "# def company_details():\n",
    "#     return '''Company Name: ABC Corporation<br>\n",
    "#               Location: India<br>\n",
    "#               Contact Detail: 999-999-9999'''\n",
    "\n",
    "# @app.route('/welcome')\n",
    "# def welcome():\n",
    "#     return 'Welcome to ABC Corporation'"
   ]
  },
  {
   "cell_type": "markdown",
   "id": "8a26e428-b461-4edf-93a7-b7a17b85f995",
   "metadata": {},
   "source": [
    "# solution 5 \n",
    "+ The url_for() function in Flask is used for URL building. It dynamically generates URLs for the specified endpoint and any arguments provided. This is useful for avoiding hardcoding URLs and makes the application more maintainable and flexible.\n"
   ]
  },
  {
   "cell_type": "code",
   "execution_count": 4,
   "id": "eea6446f-ef7a-415e-b329-32f65f7d952c",
   "metadata": {},
   "outputs": [],
   "source": [
    "\n",
    "# from flask import Flask, url_for\n",
    "\n",
    "# app = Flask(__name__)\n",
    "\n",
    "# @app.route('/')\n",
    "# def index():\n",
    "#     return 'This is the index page'\n",
    "\n",
    "# @app.route('/about')\n",
    "# def about():\n",
    "#     return 'This is the about page'\n",
    "\n",
    "# @app.route('/user/<username>')\n",
    "# def profile(username):\n",
    "#     return f'Profile page of {username}'\n",
    "\n",
    "# @app.route('/links')\n",
    "# def links():\n",
    "#     index_url = url_for('index')\n",
    "#     about_url = url_for('about')\n",
    "#     profile_url = url_for('profile', username='JohnDoe')\n",
    "#     return f'''\n",
    "#     Index URL: <a href=\"{index_url}\">{index_url}</a><br>\n",
    "#     About URL: <a href=\"{about_url}\">{about_url}</a><br>\n",
    "#     Profile URL: <a href=\"{profile_url}\">{profile_url}</a>\n",
    "#     '''\n",
    "\n",
    "# if __name__ == '__main__':\n",
    "#     app.run(debug=True)\n",
    "    \n"
   ]
  },
  {
   "cell_type": "code",
   "execution_count": null,
   "id": "5732dcaf-2f10-4da9-95ad-d957d3e72ef8",
   "metadata": {},
   "outputs": [],
   "source": []
  }
 ],
 "metadata": {
  "kernelspec": {
   "display_name": "Python 3 (ipykernel)",
   "language": "python",
   "name": "python3"
  },
  "language_info": {
   "codemirror_mode": {
    "name": "ipython",
    "version": 3
   },
   "file_extension": ".py",
   "mimetype": "text/x-python",
   "name": "python",
   "nbconvert_exporter": "python",
   "pygments_lexer": "ipython3",
   "version": "3.10.8"
  }
 },
 "nbformat": 4,
 "nbformat_minor": 5
}
