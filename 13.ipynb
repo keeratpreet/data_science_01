{
 "cells": [
  {
   "cell_type": "markdown",
   "id": "42c5f007-52c2-4d1a-9e9d-ad8eede6d22f",
   "metadata": {},
   "source": [
    "# solution 1 \n",
    "+ API (Application Programming Interface) is a set of rules and protocols that allows different software applications to communicate with each other. It defines the methods and data formats that applications can use to request and exchange information.\n",
    "+ API is used for ex in making the digital payments \n",
    "\n",
    "# solution 2 \n",
    "+ ADVANTAGES\n",
    "1) Modularity\n",
    "2) Reusability\n",
    "3) Interoperability\n",
    "\n",
    "+ DISADVANTAGES\n",
    "1) security\n",
    "2) complexity\n",
    "3) dependency \n",
    "\n",
    "# solution 3 \n",
    "+ Web API is a type of API that is accessed over the web using HTTP/HTTPS protocols. It allows applications to communicate with each other over the internet.\n",
    "+ the difference in both is the protocol they use , for eg the http is used in web api and the API may even use SMTP or other protocols\n",
    "\n",
    "# solution 4 \n",
    "+ REST (Representational State Transfer):\n",
    "\n",
    "+ REST is an architectural style for designing networked applications. It relies on a stateless, client-server communication protocol, usually HTTP.\n",
    "\n",
    "+ SOAP (Simple Object Access Protocol):\n",
    "\n",
    "+ SOAP is a protocol for exchanging structured information in web services. It relies on XML as its message format and typically uses HTTP or SMTP as the transport protocol.\n",
    "\n",
    "+ shortcoings of SOAP \n",
    "1) complexity\n",
    "2) limited flexibility\n",
    "\n",
    "\n",
    "# solution 5 \n",
    "+ REST is often preferred for web-based and microservices applications due to its simplicity and performance, while SOAP is chosen for enterprise-level applications requiring advanced security and transaction capabilities."
   ]
  },
  {
   "cell_type": "code",
   "execution_count": null,
   "id": "09bcdb01-3cc6-439d-b937-8ffec27205a6",
   "metadata": {},
   "outputs": [],
   "source": []
  }
 ],
 "metadata": {
  "kernelspec": {
   "display_name": "Python 3 (ipykernel)",
   "language": "python",
   "name": "python3"
  },
  "language_info": {
   "codemirror_mode": {
    "name": "ipython",
    "version": 3
   },
   "file_extension": ".py",
   "mimetype": "text/x-python",
   "name": "python",
   "nbconvert_exporter": "python",
   "pygments_lexer": "ipython3",
   "version": "3.10.8"
  }
 },
 "nbformat": 4,
 "nbformat_minor": 5
}
