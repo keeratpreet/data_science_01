{
 "cells": [
  {
   "cell_type": "code",
   "execution_count": 3,
   "id": "1ee8b943-9845-45ea-b67b-eb90031ed43a",
   "metadata": {},
   "outputs": [
    {
     "name": "stdout",
     "output_type": "stream",
     "text": [
      "0     4\n",
      "1     8\n",
      "2    15\n",
      "3    16\n",
      "4    23\n",
      "5    42\n",
      "dtype: int64\n"
     ]
    }
   ],
   "source": [
    "## solution 1\n",
    "import pandas as pd \n",
    "data = [ 4 , 8 , 15 , 16 , 23 , 42]\n",
    "\n",
    "series = pd.Series(data)\n",
    "print(series)"
   ]
  },
  {
   "cell_type": "code",
   "execution_count": 4,
   "id": "ccf79ec7-c1b8-45ff-9145-9a3724bdf3de",
   "metadata": {},
   "outputs": [
    {
     "name": "stdout",
     "output_type": "stream",
     "text": [
      "0    1\n",
      "1    2\n",
      "2    3\n",
      "3    4\n",
      "4    5\n",
      "5    6\n",
      "6    7\n",
      "7    8\n",
      "8    9\n",
      "9    0\n",
      "dtype: int64\n"
     ]
    }
   ],
   "source": [
    "# solution 2 \n",
    "data = [1,2,3,4,5,6,7,8,9,0]\n",
    "series =pd.Series(data)\n",
    "print(series)"
   ]
  },
  {
   "cell_type": "code",
   "execution_count": 6,
   "id": "0a06b2d5-d86d-454e-911d-25ec3ff57866",
   "metadata": {},
   "outputs": [
    {
     "name": "stdout",
     "output_type": "stream",
     "text": [
      "     name  Age  Gender\n",
      "0   Alice   25  Female\n",
      "1     Bob   30    Male\n",
      "2  Clarie   27  Female\n"
     ]
    }
   ],
   "source": [
    "## solution 3 \n",
    "data = {\n",
    "    \"name\" : [\"Alice\" , \"Bob\" , \"Clarie\"] ,\n",
    "    \"Age\" : [25,30,27] ,\n",
    "    \"Gender\" : [\"Female\" , \"Male\" , \"Female\"] \n",
    "} \n",
    "\n",
    "df = pd.DataFrame(data) \n",
    "\n",
    "print(df)"
   ]
  },
  {
   "cell_type": "code",
   "execution_count": 7,
   "id": "06b8b97d-bc94-478d-b17a-995f9a908d56",
   "metadata": {},
   "outputs": [],
   "source": [
    "## solution 4 \n",
    "# A DataFrame in pandas is a 2-dimensional labeled data structure, similar to a table in a database or an Excel spreadsheet. \n",
    "# It can hold multiple columns, each of which can be a different data type (integer, float, string, etc.).\n",
    "\n",
    "# A Series in pandas is a 1-dimensional labeled array that can hold any data type. It is essentially a single column of data."
   ]
  },
  {
   "cell_type": "code",
   "execution_count": 8,
   "id": "44617b95-58d4-405f-aa8b-00df33000b42",
   "metadata": {},
   "outputs": [],
   "source": [
    "## solution 5 \n",
    "# Some common functions to manipulate data in a Pandas DataFrame include:\n",
    "\n",
    "# head(): View the first few rows of the DataFrame.\n",
    "# tail(): View the last few rows of the DataFrame.\n",
    "# describe(): Get summary statistics of numerical columns.\n",
    "# drop(): Remove columns or rows.\n",
    "# groupby(): Group the data by one or more columns.\n",
    "# apply(): Apply a function along an axis of the DataFrame.\n",
    "# merge(): Merge two DataFrames.\n",
    "\n",
    "# fillna(): Fill missing values."
   ]
  },
  {
   "cell_type": "code",
   "execution_count": 9,
   "id": "18eeaf91-9554-438b-8d82-f4a518306973",
   "metadata": {},
   "outputs": [],
   "source": [
    "## solution 6 \n",
    "# Both Series and DataFrame are mutable in nature in pandas, \n",
    "# meaning you can modify their content after they have been created."
   ]
  },
  {
   "cell_type": "code",
   "execution_count": null,
   "id": "1c99d9be-f787-4680-bb07-fb5953ccbb6b",
   "metadata": {},
   "outputs": [],
   "source": []
  }
 ],
 "metadata": {
  "kernelspec": {
   "display_name": "Python 3 (ipykernel)",
   "language": "python",
   "name": "python3"
  },
  "language_info": {
   "codemirror_mode": {
    "name": "ipython",
    "version": 3
   },
   "file_extension": ".py",
   "mimetype": "text/x-python",
   "name": "python",
   "nbconvert_exporter": "python",
   "pygments_lexer": "ipython3",
   "version": "3.10.8"
  }
 },
 "nbformat": 4,
 "nbformat_minor": 5
}
