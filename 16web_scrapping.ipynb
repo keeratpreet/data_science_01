{
 "cells": [
  {
   "cell_type": "markdown",
   "id": "18d5d254-851b-419d-ab86-2451348f6ed3",
   "metadata": {},
   "source": [
    "# solution 1 \n",
    "+ Web Scraping is a technique used to extract data from websites. It involves fetching the content of web pages and then parsing it to obtain the required information. This process can be automated using web scraping tools and libraries.\n",
    "\n",
    "+ Why is Web Scraping Used?\n",
    "\n",
    "+ Data Collection: To gather large amounts of data from the web that can be used for analysis, research, or business intelligence.\n",
    "+ Market Research: To monitor competitor prices, product availability, and market trends.\n",
    "+ Content Aggregation: To collect content from multiple sources and display it in a consolidated manner.\n",
    "\n",
    "# solution 2 \n",
    "+ Different Methods Used for Web Scraping:\n",
    "\n",
    "+ Manual Copy-Pasting: The simplest form of web scraping, where data is manually copied from a web page.\n",
    "+ HTML Parsing: Using libraries like Beautiful Soup in Python to parse the HTML content of web pages and extract data.\n",
    "+ Web Scraping Frameworks: Using frameworks like Scrapy to automate the entire web scraping process, from fetching pages to extracting and storing data.\n",
    "+ APIs: Using APIs provided by websites to programmatically access and retrieve data.\n",
    "+ Headless Browsers: Using headless browsers like Selenium to interact with web pages dynamically and extract data, especially for sites with JavaScript-rendered content.\n",
    "\n",
    "# solution 3 \n",
    "+ Beautiful Soup is a Python library used for parsing HTML and XML documents. It creates a parse tree from page source code that can be used to extract data easily.\n",
    "+ \n",
    "+ Why is Beautiful Soup Used?\n",
    "+ \n",
    "+ Ease of Use: It provides simple methods and Pythonic idioms for navigating, searching, and modifying the parse tree.\n",
    "+ Compatibility: Works with various parsers like lxml and html.parser, providing flexibility in parsing HTML.\n",
    "+ Robustness: Handles poorly formatted HTML and XML documents effectively\n",
    "\n",
    "# solution 4 \n",
    "+ Flask is used in this web scraping project for several reasons:\n",
    "+ \n",
    "+ Microframework: Flask is lightweight and easy to set up, making it ideal for small to medium-sized applications.\n",
    "+ Flexibility: Provides the flexibility to structure the project as needed, without enforcing a specific pattern or library.\n",
    "+ Integration: Easily integrates with other libraries and tools used in web scraping projects, such as Beautiful Soup and Scrapy.\n",
    "+ Routing and Templating: Offers powerful routing and templating capabilities, making it easy to create web interfaces to display the scraped data.\n",
    "\n",
    "# solution 5 \n",
    "\n",
    "+ we are using bin stack and codepipeline in the given project \n",
    "+"
   ]
  }
 ],
 "metadata": {
  "kernelspec": {
   "display_name": "Python 3 (ipykernel)",
   "language": "python",
   "name": "python3"
  },
  "language_info": {
   "codemirror_mode": {
    "name": "ipython",
    "version": 3
   },
   "file_extension": ".py",
   "mimetype": "text/x-python",
   "name": "python",
   "nbconvert_exporter": "python",
   "pygments_lexer": "ipython3",
   "version": "3.10.8"
  }
 },
 "nbformat": 4,
 "nbformat_minor": 5
}
