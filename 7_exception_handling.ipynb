{
 "cells": [
  {
   "cell_type": "markdown",
   "id": "26fbeb18-6ae3-4e0f-9bd3-1a27e98873d7",
   "metadata": {},
   "source": [
    "# solution 1 \n",
    "+ exceptions are the special conditons where the kernel is unable to produce the output or the kernel dies \n",
    "+ it includes exception like dividebyZero , type exception , key exception , value error etc\n",
    "+ exception is different from syntax error in a way that syntax is a predefined set of instructions to write a code \n",
    "+ a statement might me syntatically be correct but still can cause exception "
   ]
  },
  {
   "cell_type": "markdown",
   "id": "f5aad110-9561-4e60-a1ce-04a044a54e5a",
   "metadata": {},
   "source": [
    "# solution 2\n",
    "+ when the exception is not handled it might lead to program termination "
   ]
  },
  {
   "cell_type": "code",
   "execution_count": 3,
   "id": "f29e87a3-fb06-4219-8cf4-66db7f8809dc",
   "metadata": {},
   "outputs": [
    {
     "ename": "ZeroDivisionError",
     "evalue": "division by zero",
     "output_type": "error",
     "traceback": [
      "\u001b[0;31m---------------------------------------------------------------------------\u001b[0m",
      "\u001b[0;31mZeroDivisionError\u001b[0m                         Traceback (most recent call last)",
      "Cell \u001b[0;32mIn[3], line 2\u001b[0m\n\u001b[1;32m      1\u001b[0m a \u001b[38;5;241m=\u001b[39m \u001b[38;5;241m10\u001b[39m \n\u001b[0;32m----> 2\u001b[0m \u001b[38;5;28mprint\u001b[39m(\u001b[43ma\u001b[49m\u001b[38;5;241;43m/\u001b[39;49m\u001b[38;5;241;43m0\u001b[39;49m)\n",
      "\u001b[0;31mZeroDivisionError\u001b[0m: division by zero"
     ]
    }
   ],
   "source": [
    "a = 10 \n",
    "print(a/0)"
   ]
  },
  {
   "cell_type": "markdown",
   "id": "7f62c982-c454-4a87-8966-8a819f46f65f",
   "metadata": {},
   "source": [
    "# solution 3 \n",
    "+ python statement usedto catch and handle the exception is the use of try and except block "
   ]
  },
  {
   "cell_type": "code",
   "execution_count": 4,
   "id": "a00ac059-8ffc-4221-a50b-5122614ccb59",
   "metadata": {},
   "outputs": [
    {
     "name": "stdout",
     "output_type": "stream",
     "text": [
      "zero divison not possible\n"
     ]
    }
   ],
   "source": [
    "a=10\n",
    "try :\n",
    "    print(a/0)\n",
    "except:\n",
    "    print(\"zero divison not possible\")"
   ]
  },
  {
   "cell_type": "markdown",
   "id": "d1c8136e-7e7c-4876-bbc1-3a3649aa175b",
   "metadata": {},
   "source": [
    "# solution 4"
   ]
  },
  {
   "cell_type": "code",
   "execution_count": 5,
   "id": "e0e02860-c786-42c1-9c47-0266c9e90eaa",
   "metadata": {},
   "outputs": [
    {
     "name": "stdout",
     "output_type": "stream",
     "text": [
      "zero divison not possible\n",
      "this will always execute\n"
     ]
    }
   ],
   "source": [
    "a=10\n",
    "try :\n",
    "    print(a/0)\n",
    "except:\n",
    "    print(\"zero divison not possible\")\n",
    "else :\n",
    "    print(\"this will execute if else is true\")\n",
    "finally:\n",
    "    print(\"this will always execute\")\n"
   ]
  },
  {
   "cell_type": "code",
   "execution_count": 7,
   "id": "16061fc6-03e2-4f9b-8cd5-22e3839292fa",
   "metadata": {},
   "outputs": [
    {
     "name": "stdout",
     "output_type": "stream",
     "text": [
      "2.0\n",
      "this will execute if else is true\n",
      "this will always execute\n"
     ]
    }
   ],
   "source": [
    "a=10\n",
    "try :\n",
    "    print(a/5)\n",
    "except:\n",
    "    print(\"zero divison not possible\")\n",
    "else :\n",
    "    print(\"this will execute if else is true\")\n",
    "finally:\n",
    "    print(\"this will always execute\")\n",
    "\n",
    "    \n",
    "    ## raise is a custom exception raising mechanism and is shown in next solution "
   ]
  },
  {
   "cell_type": "markdown",
   "id": "542295a0-dcbe-4a59-b679-66265fa32988",
   "metadata": {},
   "source": [
    "# solution 5\n",
    "+ custom exceptionis a process in which we write down our own .\n",
    "+  They are used to create meaningful and specific error messages for particular situations that may arise in your code, making debugging and error handling more efficient."
   ]
  },
  {
   "cell_type": "code",
   "execution_count": 9,
   "id": "12e35f95-6d4e-40b3-823a-c92035158614",
   "metadata": {},
   "outputs": [],
   "source": [
    "\n",
    "class validateage(Exception):\n",
    "    def __init__(self,msg):\n",
    "        self.msg=msg\n",
    "        \n",
    "def validate_age(age):\n",
    "    if age<0 :\n",
    "        raise validateage(\"age can't be lesser than zero\")\n",
    "    elif age>200:\n",
    "        raise validateage(\"age can't be too big\")\n",
    "    else :\n",
    "        print(\"the age entered is %d\" %age)\n",
    "    "
   ]
  },
  {
   "cell_type": "code",
   "execution_count": 11,
   "id": "c4ec81da-11a0-4f7f-b1e8-70968d6faff4",
   "metadata": {},
   "outputs": [
    {
     "name": "stdin",
     "output_type": "stream",
     "text": [
      "enter your age -34\n"
     ]
    },
    {
     "name": "stdout",
     "output_type": "stream",
     "text": [
      "age can't be lesser than zero\n"
     ]
    }
   ],
   "source": [
    "try :\n",
    "    age=int(input(\"enter your age\"))\n",
    "    validate_age(age)\n",
    "except validateage as e:\n",
    "    print(e)\n",
    "    "
   ]
  },
  {
   "cell_type": "markdown",
   "id": "957965a6-1dda-4fd5-8254-0860ce7f7512",
   "metadata": {},
   "source": [
    "# solution 6 "
   ]
  },
  {
   "cell_type": "code",
   "execution_count": 12,
   "id": "3828531d-fd28-4c15-9fff-090c96e3148b",
   "metadata": {},
   "outputs": [],
   "source": [
    "class CustomError(Exception):\n",
    "    \"\"\"Base class for custom exceptions.\"\"\"\n",
    "    pass\n",
    "\n",
    "class ValueTooHighError(CustomError):\n",
    "    \"\"\"Raised when the input value is too high.\"\"\"\n",
    "    pass\n",
    "\n",
    "class ValueTooLowError(CustomError):\n",
    "    \"\"\"Raised when the input value is too low.\"\"\"\n",
    "    pass\n"
   ]
  },
  {
   "cell_type": "code",
   "execution_count": 13,
   "id": "fb29d546-c8ce-47e3-a4db-e3ae25f9b5f8",
   "metadata": {},
   "outputs": [
    {
     "name": "stdout",
     "output_type": "stream",
     "text": [
      "Error: The value is too high!\n"
     ]
    }
   ],
   "source": [
    "def validate_value(value):\n",
    "    if value > 100:\n",
    "        raise ValueTooHighError(\"The value is too high!\")\n",
    "    elif value < 10:\n",
    "        raise ValueTooLowError(\"The value is too low!\")\n",
    "    else:\n",
    "        print(\"The value is within the acceptable range.\")\n",
    "\n",
    "# Example usage\n",
    "try:\n",
    "    validate_value(150)\n",
    "except ValueTooHighError as e:\n",
    "    print(f\"Error: {e}\")\n",
    "except ValueTooLowError as e:\n",
    "    print(f\"Error: {e}\")\n"
   ]
  },
  {
   "cell_type": "code",
   "execution_count": null,
   "id": "c7c97a8e-48b9-4b56-a73e-83377d284c23",
   "metadata": {},
   "outputs": [],
   "source": []
  }
 ],
 "metadata": {
  "kernelspec": {
   "display_name": "Python 3 (ipykernel)",
   "language": "python",
   "name": "python3"
  },
  "language_info": {
   "codemirror_mode": {
    "name": "ipython",
    "version": 3
   },
   "file_extension": ".py",
   "mimetype": "text/x-python",
   "name": "python",
   "nbconvert_exporter": "python",
   "pygments_lexer": "ipython3",
   "version": "3.10.8"
  }
 },
 "nbformat": 4,
 "nbformat_minor": 5
}
