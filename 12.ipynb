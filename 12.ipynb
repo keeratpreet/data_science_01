{
 "cells": [
  {
   "cell_type": "markdown",
   "id": "ee408efe-c2d8-4108-bf9c-18559b159503",
   "metadata": {},
   "source": [
    "# solution 1 \n",
    "+ MongoDB is a popular open-source NoSQL database that stores data in flexible, JSON-like documents. It falls under the category of non-relational or NoSQL databases, which differ from traditional SQL databases\n",
    "+ MongoDB is preferred over SQL databases in scenarios where:\n",
    "1) high scalability required \n",
    "2) schema flexibility\n",
    "3) rapid development\n",
    "\n",
    "\n",
    "# solution 2\n",
    "+ MongoDB offers several key features:\n",
    "\n",
    "1) Document-Oriented: Stores data in flexible, JSON-like documents (BSON format in MongoDB) that can have varying structures.\n",
    "\n",
    "2) Ad Hoc Queries: Supports dynamic queries on documents using a rich query language.\n",
    "\n",
    "3) Indexes: Supports secondary indexes to improve query performance.\n",
    "\n",
    "4) Replication and High Availability: Provides replication with automated failover and data redundancy.\n",
    "\n",
    "# solution 3 \n"
   ]
  },
  {
   "cell_type": "code",
   "execution_count": 1,
   "id": "cbdfdba6-5e6d-4517-9de5-76343fb52acc",
   "metadata": {},
   "outputs": [],
   "source": [
    "#    import pymongo\n",
    "   \n",
    "#    # Connect to MongoDB\n",
    "#    client = pymongo.MongoClient(\"mongodb://localhost:27017/\")\n",
    "   \n",
    "#    # Create a database\n",
    "#    mydb = client[\"mydatabase\"]\n",
    "   \n",
    "#    # Create a collection\n",
    "#    mycol = mydb[\"customers\"]"
   ]
  },
  {
   "cell_type": "markdown",
   "id": "aa0a83d8-6f38-41de-b0e3-f4ab49bc20fb",
   "metadata": {},
   "source": [
    "# solution 4"
   ]
  },
  {
   "cell_type": "code",
   "execution_count": 1,
   "id": "9fe0083d-0b6e-461f-bf25-c31e7a3d9a2e",
   "metadata": {},
   "outputs": [],
   "source": [
    "#    # Insert one record\n",
    "#    mydict = { \"name\": \"John\", \"address\": \"Highway 37\" }\n",
    "#    insert_one_result = mycol.insert_one(mydict)\n",
    "   \n",
    "#    print(insert_one_result.inserted_id)  # Print the inserted document ID\n",
    "   \n",
    "#    # Insert many records\n",
    "#    mylist = [\n",
    "#      { \"name\": \"Amy\", \"address\": \"Apple st 652\"},\n",
    "#      { \"name\": \"Hannah\", \"address\": \"Mountain 21\"},\n",
    "#      { \"name\": \"Michael\", \"address\": \"Valley 345\"},\n",
    "#      { \"name\": \"Sandy\", \"address\": \"Ocean blvd 2\"},\n",
    "#    ]\n",
    "   \n",
    "#    insert_many_result = mycol.insert_many(mylist)\n",
    "   \n",
    "#    # Print all inserted document IDs\n",
    "#    print(insert_many_result.inserted_ids)\n",
    "   \n",
    "#    # Find one record\n",
    "#    result_one = mycol.find_one()\n",
    "#    print(result_one)\n",
    "   \n",
    "#    # Find all records\n",
    "#    for x in mycol.find():\n",
    "#      print(x)\n",
    "   "
   ]
  },
  {
   "cell_type": "markdown",
   "id": "6660a64e-d983-4437-b943-60da36dd4049",
   "metadata": {},
   "source": [
    "# solution 5 \n",
    "+ The find() method in MongoDB is used to query for documents in a collection. You can specify filters, projections, and other options to tailor the query.\n"
   ]
  },
  {
   "cell_type": "code",
   "execution_count": 3,
   "id": "2a115bb9-5171-482b-8a26-48e18e61cdd6",
   "metadata": {},
   "outputs": [],
   "source": [
    "# for i in mycol.find():\n",
    "#     print(i)"
   ]
  },
  {
   "cell_type": "markdown",
   "id": "3282fb11-08cd-4671-a37b-4b815acf5631",
   "metadata": {},
   "source": [
    "# solution 6\n",
    "+ The sort() method in MongoDB is used to sort the results of a query in either ascending (1) or descending (-1) order based on one or more fields.\n"
   ]
  },
  {
   "cell_type": "code",
   "execution_count": 4,
   "id": "c8e2b383-0450-4e6d-80fc-b77936ed38fa",
   "metadata": {},
   "outputs": [],
   "source": [
    "#    # Sort documents by the 'name' field in ascending order\n",
    "#    results = mycol.find().sort(\"name\", 1)\n",
    "   \n",
    "#    for result in results:\n",
    "#      print(result)\n",
    "   \n",
    "#    # Sort documents by the 'age' field in descending order\n",
    "#    results = mycol.find().sort(\"age\", -1)\n",
    "   \n",
    "#    for result in results:\n",
    "#      print(result)\n"
   ]
  },
  {
   "cell_type": "markdown",
   "id": "5b9810cd-c652-403a-b061-ad8a1f8e6bfb",
   "metadata": {},
   "source": [
    "# solution 7\n",
    "\n",
    "+ delete_one(): Deletes a single document that matches the specified criteria.\n",
    "\n",
    "+ delete_many(): Deletes all documents that match the specified criteria\n",
    "\n",
    "+ drop(): Deletes an entire collection from the database."
   ]
  },
  {
   "cell_type": "code",
   "execution_count": null,
   "id": "eb6c630c-5625-4f91-9352-25d7afbf87ee",
   "metadata": {},
   "outputs": [],
   "source": []
  }
 ],
 "metadata": {
  "kernelspec": {
   "display_name": "Python 3 (ipykernel)",
   "language": "python",
   "name": "python3"
  },
  "language_info": {
   "codemirror_mode": {
    "name": "ipython",
    "version": 3
   },
   "file_extension": ".py",
   "mimetype": "text/x-python",
   "name": "python",
   "nbconvert_exporter": "python",
   "pygments_lexer": "ipython3",
   "version": "3.10.8"
  }
 },
 "nbformat": 4,
 "nbformat_minor": 5
}
