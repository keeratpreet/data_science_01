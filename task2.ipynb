{
 "cells": [
  {
   "cell_type": "code",
   "execution_count": 28,
   "id": "f5372580-a53e-4d26-b134-f06197eb91e1",
   "metadata": {},
   "outputs": [
    {
     "name": "stdin",
     "output_type": "stream",
     "text": [
      "enter the password ABCdef2!@#\n"
     ]
    },
    {
     "name": "stdout",
     "output_type": "stream",
     "text": [
      "Valid Password\n"
     ]
    }
   ],
   "source": [
    "s=input(\"enter the password\")\n",
    "if len(s) != 10 :\n",
    "    print(\"Invalid Password\")\n",
    "    \n",
    "else :\n",
    "    u_cnt=0\n",
    "    l_cnt=0\n",
    "    s_cnt=0\n",
    "    n_cnt=0\n",
    "    special_characters = ['!', '@', '#', '$', '%', '^', '&', '*', '(', ')', '-', '_', '=', '+',\n",
    "                          '{', '}', '[', ']', '|', '\\\\', ':', ';', '\"', \"'\", '<', '>', ',', '.',\n",
    "                          '?', '/', '~', '`', ' ', '\\t', '\\n', '\\r', '\\v', '\\f', '©', '®', '™',\n",
    "                          '€', '£', '¥', '¢', '§', '¶', '•', '…', '±', '×', '÷']\n",
    "    \n",
    "    for i in s :\n",
    "        if i.islower():\n",
    "            l_cnt+=1\n",
    "        elif i.isupper():\n",
    "            u_cnt+=1\n",
    "        elif i.isdigit():\n",
    "            n_cnt +=1\n",
    "        else:\n",
    "            if i in special_characters :\n",
    "                s_cnt +=1\n",
    "        \n",
    "\n",
    "    if(u_cnt>=2 and l_cnt>=2 and s_cnt==3 and n_cnt>=1) :\n",
    "        print(\"Valid Password\")\n",
    "    else :\n",
    "        print(\"Invalid Password\")"
   ]
  },
  {
   "cell_type": "markdown",
   "id": "558f7842-065c-4173-b913-e975d69c4dca",
   "metadata": {},
   "source": [
    "# solution 2"
   ]
  },
  {
   "cell_type": "markdown",
   "id": "4b46a3b8-813a-440c-9879-d6f27dc1d69f",
   "metadata": {},
   "source": [
    "+ Check if the string starts with a particular letterY\n"
   ]
  },
  {
   "cell_type": "code",
   "execution_count": 29,
   "id": "855a575a-cef4-4f05-b33f-51e9dc704723",
   "metadata": {},
   "outputs": [
    {
     "name": "stdin",
     "output_type": "stream",
     "text": [
      "enter the string abcdef\n",
      "enter the character a\n"
     ]
    },
    {
     "name": "stdout",
     "output_type": "stream",
     "text": [
      "TRUE\n"
     ]
    }
   ],
   "source": [
    "s = input(\"enter the string\")\n",
    "char = input(\"enter the character\")\n",
    "\n",
    "if s[0]==char :\n",
    "    print(\"TRUE\")\n",
    "else :\n",
    "    print(\"FALSE\")"
   ]
  },
  {
   "cell_type": "markdown",
   "id": "4cc4cf8b-e1f9-4c2e-b440-fabf5c5cfd58",
   "metadata": {},
   "source": [
    "+ Check if the string is numeric"
   ]
  },
  {
   "cell_type": "code",
   "execution_count": 7,
   "id": "430401d0-aa00-4412-8e51-b6a9ec5d500d",
   "metadata": {},
   "outputs": [
    {
     "name": "stdin",
     "output_type": "stream",
     "text": [
      "Enter the string:  123.4e10\n"
     ]
    },
    {
     "name": "stdout",
     "output_type": "stream",
     "text": [
      "The entered string is numeric.\n"
     ]
    }
   ],
   "source": [
    "s = input(\"Enter the string: \")\n",
    "\n",
    "try:\n",
    "    float_value = float(s)\n",
    "    print(\"The entered string is numeric.\")\n",
    "except ValueError:\n",
    "    print(\"The entered string is not numeric.\")\n"
   ]
  },
  {
   "cell_type": "markdown",
   "id": "9a775409-1bdf-410b-8af0-fed38715670e",
   "metadata": {},
   "source": [
    "+ Sort a list of tuples having fruit names and their quantity. [(\"mango\",99),(\"orange\",80), (\"grapes\", 1000)]\n"
   ]
  },
  {
   "cell_type": "code",
   "execution_count": 8,
   "id": "bbcb0e85-90b0-4139-b6dd-98f7d1645f9b",
   "metadata": {},
   "outputs": [],
   "source": [
    "li=[(\"mango\",99),(\"orange\",80), (\"grapes\", 1000)]"
   ]
  },
  {
   "cell_type": "code",
   "execution_count": 12,
   "id": "6acd0943-58a4-42eb-bfc8-e7cc943d3673",
   "metadata": {},
   "outputs": [],
   "source": [
    " n = len(li)"
   ]
  },
  {
   "cell_type": "code",
   "execution_count": 16,
   "id": "27f65e73-c269-43ae-8dd0-7f5edfe9bed7",
   "metadata": {},
   "outputs": [],
   "source": [
    "for i in range(n):\n",
    "    for j in range (n-i-1):\n",
    "        if li[j][1] > li[j+1][1]:\n",
    "            li[j],li[j+1] = li[j+1] ,li[j]\n",
    "        "
   ]
  },
  {
   "cell_type": "code",
   "execution_count": 17,
   "id": "0b215415-aa8c-4d7c-8627-ac5ee1b333fb",
   "metadata": {},
   "outputs": [
    {
     "data": {
      "text/plain": [
       "[('orange', 80), ('mango', 99), ('grapes', 1000)]"
      ]
     },
     "execution_count": 17,
     "metadata": {},
     "output_type": "execute_result"
    }
   ],
   "source": [
    "li\n"
   ]
  },
  {
   "cell_type": "markdown",
   "id": "c75c3b72-1286-4b43-8da4-f7f12c937ab6",
   "metadata": {},
   "source": [
    "+ squares of number from 1 till 10"
   ]
  },
  {
   "cell_type": "code",
   "execution_count": 18,
   "id": "97869025-e05c-43ef-b10b-ce3207293090",
   "metadata": {},
   "outputs": [],
   "source": [
    "li=[1,2,3,4,5,6,7,8,9,10]"
   ]
  },
  {
   "cell_type": "code",
   "execution_count": 19,
   "id": "df4fa9d1-a715-4455-bb03-458bfcf6e340",
   "metadata": {},
   "outputs": [
    {
     "data": {
      "text/plain": [
       "[1, 4, 9, 16, 25, 36, 49, 64, 81, 100]"
      ]
     },
     "execution_count": 19,
     "metadata": {},
     "output_type": "execute_result"
    }
   ],
   "source": [
    "list(map(lambda x : x**2 , li))"
   ]
  },
  {
   "cell_type": "markdown",
   "id": "28642e20-ec61-4ecf-8698-150a5bd2984e",
   "metadata": {},
   "source": [
    "+ cube root of numbers from 1 to 10"
   ]
  },
  {
   "cell_type": "code",
   "execution_count": 20,
   "id": "d70f3cb8-91c7-421d-a52c-6f668a027791",
   "metadata": {},
   "outputs": [
    {
     "data": {
      "text/plain": [
       "[1.0,\n",
       " 1.2599210498948732,\n",
       " 1.4422495703074083,\n",
       " 1.5874010519681994,\n",
       " 1.7099759466766968,\n",
       " 1.8171205928321397,\n",
       " 1.912931182772389,\n",
       " 2.0,\n",
       " 2.080083823051904,\n",
       " 2.154434690031884]"
      ]
     },
     "execution_count": 20,
     "metadata": {},
     "output_type": "execute_result"
    }
   ],
   "source": [
    "list(map(lambda x: x**(1/3) , li))"
   ]
  },
  {
   "cell_type": "markdown",
   "id": "f27df4fd-286f-44b2-b2ea-dedb9a2dad69",
   "metadata": {},
   "source": [
    "+ check if  given number is even "
   ]
  },
  {
   "cell_type": "code",
   "execution_count": 21,
   "id": "f0a7030f-7b19-4fbe-96c2-bfde09b6de37",
   "metadata": {},
   "outputs": [
    {
     "name": "stdin",
     "output_type": "stream",
     "text": [
      "enter the number 46\n"
     ]
    },
    {
     "name": "stdout",
     "output_type": "stream",
     "text": [
      "even\n"
     ]
    }
   ],
   "source": [
    "n=int(input(\"enter the number\"))\n",
    "\n",
    "if n%2 == 0 :\n",
    "    print(\"even\")\n",
    "else :\n",
    "    print(\"odd\")"
   ]
  },
  {
   "cell_type": "markdown",
   "id": "77f67ca2-2fd8-4d0f-9631-62def7924aec",
   "metadata": {},
   "source": [
    "+ filter the odd no.s from the list"
   ]
  },
  {
   "cell_type": "code",
   "execution_count": 22,
   "id": "5910e1c3-05e5-4a89-ad17-d12cf2563c74",
   "metadata": {},
   "outputs": [
    {
     "data": {
      "text/plain": [
       "[1, 3, 5, 7, 9]"
      ]
     },
     "execution_count": 22,
     "metadata": {},
     "output_type": "execute_result"
    }
   ],
   "source": [
    "li=[1,2,3,4,5,6,7,8,9,10]\n",
    "\n",
    "list(filter(lambda x : x%2==1, li))"
   ]
  },
  {
   "cell_type": "markdown",
   "id": "6d0aceff-1cbd-4509-9ea7-2172d11d0606",
   "metadata": {},
   "source": [
    "+ sort the list in positive and negative numbers list"
   ]
  },
  {
   "cell_type": "code",
   "execution_count": null,
   "id": "ba1d85fa-4f16-4120-b938-9e440a97d8f4",
   "metadata": {},
   "outputs": [],
   "source": [
    "numbers = [1, 2, 3, 4, 5, 6, -1, -2, -3, -4, -5, 0]\n",
    "\n",
    "positive_numbers = [num for num in numbers if num > 0]\n",
    "negative_numbers = [num for num in numbers if num < 0]\n",
    "\n",
    "print(\"Positive numbers:\", positive_numbers)\n",
    "print(\"Negative numbers:\", negative_numbers)\n"
   ]
  }
 ],
 "metadata": {
  "kernelspec": {
   "display_name": "Python 3 (ipykernel)",
   "language": "python",
   "name": "python3"
  },
  "language_info": {
   "codemirror_mode": {
    "name": "ipython",
    "version": 3
   },
   "file_extension": ".py",
   "mimetype": "text/x-python",
   "name": "python",
   "nbconvert_exporter": "python",
   "pygments_lexer": "ipython3",
   "version": "3.10.8"
  }
 },
 "nbformat": 4,
 "nbformat_minor": 5
}
