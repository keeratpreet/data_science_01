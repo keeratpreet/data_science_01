{
 "cells": [
  {
   "cell_type": "code",
   "execution_count": 1,
   "id": "4f339ad9-0616-4ca3-acd4-f5bf38c610a2",
   "metadata": {},
   "outputs": [],
   "source": [
    "import numpy as np "
   ]
  },
  {
   "cell_type": "code",
   "execution_count": 11,
   "id": "f461af4c-502e-4dba-b7e3-fb387b59768c",
   "metadata": {},
   "outputs": [
    {
     "data": {
      "text/plain": [
       "list"
      ]
     },
     "execution_count": 11,
     "metadata": {},
     "output_type": "execute_result"
    }
   ],
   "source": [
    "# solution 1\n",
    "list_=[1,2,3,4,5]\n",
    "type(list_)\n"
   ]
  },
  {
   "cell_type": "code",
   "execution_count": 12,
   "id": "cf626262-358c-4c25-892b-68e04e31cd31",
   "metadata": {},
   "outputs": [
    {
     "data": {
      "text/plain": [
       "numpy.ndarray"
      ]
     },
     "execution_count": 12,
     "metadata": {},
     "output_type": "execute_result"
    }
   ],
   "source": [
    "arr2=np.array([1,2,3,4,5])\n",
    "type(arr2)"
   ]
  },
  {
   "cell_type": "code",
   "execution_count": 13,
   "id": "ff14ffad-94f9-4eae-a6da-368ede4aeddf",
   "metadata": {},
   "outputs": [],
   "source": [
    "##yes both have different data types "
   ]
  },
  {
   "cell_type": "code",
   "execution_count": 14,
   "id": "5daeb51c-7d50-49b4-af42-65a328a1a975",
   "metadata": {},
   "outputs": [],
   "source": [
    "## solution 2"
   ]
  },
  {
   "cell_type": "code",
   "execution_count": 15,
   "id": "08e0276f-f9c9-4308-86df-621374f164bb",
   "metadata": {},
   "outputs": [
    {
     "name": "stdout",
     "output_type": "stream",
     "text": [
      "<class 'int'>\n",
      "<class 'int'>\n",
      "<class 'int'>\n",
      "<class 'int'>\n",
      "<class 'int'>\n",
      "<class 'numpy.int64'>\n",
      "<class 'numpy.int64'>\n",
      "<class 'numpy.int64'>\n",
      "<class 'numpy.int64'>\n",
      "<class 'numpy.int64'>\n"
     ]
    }
   ],
   "source": [
    "for i in list_ :\n",
    "    print(type(i))\n",
    "\n",
    "for i in arr2 :\n",
    "    print(type(i))"
   ]
  },
  {
   "cell_type": "code",
   "execution_count": 16,
   "id": "eb5bfc96-816c-4224-95dc-70b8f11fbef6",
   "metadata": {},
   "outputs": [],
   "source": [
    "## solution 3 "
   ]
  },
  {
   "cell_type": "code",
   "execution_count": 17,
   "id": "e0dfff29-5efb-46f3-b749-7475f6503b8c",
   "metadata": {},
   "outputs": [
    {
     "name": "stdout",
     "output_type": "stream",
     "text": [
      "<class 'int'>\n",
      "<class 'int'>\n",
      "<class 'int'>\n",
      "<class 'int'>\n",
      "<class 'int'>\n",
      "<class 'numpy.int64'>\n",
      "<class 'numpy.int64'>\n",
      "<class 'numpy.int64'>\n",
      "<class 'numpy.int64'>\n",
      "<class 'numpy.int64'>\n"
     ]
    }
   ],
   "source": [
    "array_list = np.array(object = list_, dtype = int) # redifne arrlist with dtype = int \n",
    "for i in list_ :\n",
    "    print(type(i))\n",
    "    \n",
    "for i in array_list :\n",
    "    print(type(i))"
   ]
  },
  {
   "cell_type": "code",
   "execution_count": 18,
   "id": "daa6f0e7-1460-483f-b1a1-c634bf91cdc8",
   "metadata": {},
   "outputs": [],
   "source": [
    "## solution 4"
   ]
  },
  {
   "cell_type": "code",
   "execution_count": 19,
   "id": "51833c06-b6ae-456d-8227-0d0d0264990f",
   "metadata": {},
   "outputs": [],
   "source": [
    "num_list = [ [ 1 , 2 , 3 ] , [ 4 , 5 , 6 ] ]\n",
    "num_array = np.array(object = num_list)"
   ]
  },
  {
   "cell_type": "code",
   "execution_count": 20,
   "id": "d236e757-7704-45a6-a0fc-a56beb16e3e6",
   "metadata": {},
   "outputs": [
    {
     "data": {
      "text/plain": [
       "array([[1, 2, 3],\n",
       "       [4, 5, 6]])"
      ]
     },
     "execution_count": 20,
     "metadata": {},
     "output_type": "execute_result"
    }
   ],
   "source": [
    "num_array"
   ]
  },
  {
   "cell_type": "code",
   "execution_count": 21,
   "id": "59a51177-544e-49c2-83c1-f2e7a8a8dde4",
   "metadata": {},
   "outputs": [
    {
     "data": {
      "text/plain": [
       "(2, 3)"
      ]
     },
     "execution_count": 21,
     "metadata": {},
     "output_type": "execute_result"
    }
   ],
   "source": [
    "num_array.shape"
   ]
  },
  {
   "cell_type": "code",
   "execution_count": 22,
   "id": "a4b0a235-1ad9-4558-bfee-bebf75ba45fa",
   "metadata": {},
   "outputs": [
    {
     "data": {
      "text/plain": [
       "6"
      ]
     },
     "execution_count": 22,
     "metadata": {},
     "output_type": "execute_result"
    }
   ],
   "source": [
    "num_array.size"
   ]
  },
  {
   "cell_type": "code",
   "execution_count": 24,
   "id": "6ca812be-01ac-4e34-b74f-98722100d3d8",
   "metadata": {},
   "outputs": [],
   "source": [
    "newarr = np.zeros((3,3))"
   ]
  },
  {
   "cell_type": "code",
   "execution_count": 25,
   "id": "f7957049-51b8-4b09-9be0-b1a3e9a5edf5",
   "metadata": {},
   "outputs": [
    {
     "data": {
      "text/plain": [
       "array([[0., 0., 0.],\n",
       "       [0., 0., 0.],\n",
       "       [0., 0., 0.]])"
      ]
     },
     "execution_count": 25,
     "metadata": {},
     "output_type": "execute_result"
    }
   ],
   "source": [
    "newarr"
   ]
  },
  {
   "cell_type": "code",
   "execution_count": 26,
   "id": "389d764e-d9fd-4996-a520-057fea803dc4",
   "metadata": {},
   "outputs": [],
   "source": [
    "## solution 5 "
   ]
  },
  {
   "cell_type": "code",
   "execution_count": 27,
   "id": "d0ccf18d-d69d-4d1e-aa55-91916a220dbf",
   "metadata": {},
   "outputs": [],
   "source": [
    "identity_mat = np.eye(5)"
   ]
  },
  {
   "cell_type": "code",
   "execution_count": 28,
   "id": "4d0e535a-4585-472e-88b7-e5c226a4ca47",
   "metadata": {},
   "outputs": [
    {
     "data": {
      "text/plain": [
       "array([[1., 0., 0., 0., 0.],\n",
       "       [0., 1., 0., 0., 0.],\n",
       "       [0., 0., 1., 0., 0.],\n",
       "       [0., 0., 0., 1., 0.],\n",
       "       [0., 0., 0., 0., 1.]])"
      ]
     },
     "execution_count": 28,
     "metadata": {},
     "output_type": "execute_result"
    }
   ],
   "source": [
    "identity_mat"
   ]
  },
  {
   "cell_type": "code",
   "execution_count": null,
   "id": "84084368-3a84-4261-8a53-b6d75b6e0598",
   "metadata": {},
   "outputs": [],
   "source": []
  }
 ],
 "metadata": {
  "kernelspec": {
   "display_name": "Python 3 (ipykernel)",
   "language": "python",
   "name": "python3"
  },
  "language_info": {
   "codemirror_mode": {
    "name": "ipython",
    "version": 3
   },
   "file_extension": ".py",
   "mimetype": "text/x-python",
   "name": "python",
   "nbconvert_exporter": "python",
   "pygments_lexer": "ipython3",
   "version": "3.10.8"
  }
 },
 "nbformat": 4,
 "nbformat_minor": 5
}
