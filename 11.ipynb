{
 "cells": [
  {
   "cell_type": "markdown",
   "id": "6513b66a-4dd6-468d-96da-4b4961304dc4",
   "metadata": {},
   "source": [
    "# solution 1 \n",
    "+ Database is a place where the data is stored , for easy storage , retrieval and manipulations \n",
    "+ sql and no-sql databases are differentiated based on their property whether they are relational or not \n",
    "+ sql has a relational schema while the no-sql is not \n",
    "\n",
    "# solution 2 \n",
    "+ DDL (Data Definition Language) is a subset of SQL (Structured Query Language) used to define and manage database schema and structure. DDL statements are used to create, modify, and delete database objects such as tables, indexes, and views. \n",
    "+ CREATE TABLE employees (\n",
    "    id INT PRIMARY KEY,\n",
    "    name VARCHAR(100),\n",
    "    position VARCHAR(50),\n",
    "    salary DECIMAL(10, 2),\n",
    "    hire_date DATE\n",
    "   );\n",
    "   \n",
    "+ DROP TABLE employees;\n",
    "+ ALTER TABLE employees ADD COLUMN department VARCHAR(50);\n",
    "+ TRUNCATE TABLE employees;\n",
    "\n",
    "# solution 3 \n",
    "+ DML (Data Manipulation Language) is used for managing data within schema objects.\n",
    "+ ex of insert , update and delete \n",
    "\n"
   ]
  },
  {
   "cell_type": "code",
   "execution_count": 2,
   "id": "e9ace8d3-ee93-4c25-afba-4207d576d313",
   "metadata": {},
   "outputs": [],
   "source": [
    "\n",
    "# INSERT INTO employees (id, name, position, salary, hire_date)\n",
    "#   VALUES (1, 'John Doe', 'Manager', 75000, '2023-01-15');\n",
    "# UPDATE employees\n",
    "#   SET salary = 80000\n",
    "#   WHERE id = 1;\n",
    "# DELETE FROM employees\n",
    "#   WHERE id = 1;\n"
   ]
  },
  {
   "cell_type": "markdown",
   "id": "2a69faa7-ca3e-466a-b3fe-845a1a010441",
   "metadata": {},
   "source": [
    "# solution 4 \n",
    "+ DQL (Data Query Language) is used to query the database and retrieve data from it.\n",
    "+ SELECT: Retrieves data from one or more tables"
   ]
  },
  {
   "cell_type": "code",
   "execution_count": 3,
   "id": "507a4843-1578-4c78-9ca0-411ab9bd76ab",
   "metadata": {},
   "outputs": [],
   "source": [
    "# SELECT name, position, salary\n",
    "# FROM employees\n",
    "# WHERE salary > 50000;\n"
   ]
  },
  {
   "cell_type": "markdown",
   "id": "37f4d0b3-9787-4da3-b75d-5ad406a588e7",
   "metadata": {},
   "source": [
    "# solution 5 \n",
    "+ primary Key: A primary key is a field in a table that uniquely identifies each row/record in that table. Primary keys must contain unique values and cannot contain NULL values.\n",
    "+ Foreign Key: A foreign key is a field (or collection of fields) in one table that uniquely identifies a row of another table. The foreign key establishes a link between the data in the two tables.\n",
    "\n",
    "# solution 6 \n",
    "+ cursor(): The cursor() method creates a cursor object which is used to execute SQL commands and fetch data from the database.\n",
    "+ execute(): The execute() method is used to execute a SQL query.\n",
    "+ code to connect MySQL to python."
   ]
  },
  {
   "cell_type": "code",
   "execution_count": 4,
   "id": "bed837ec-da77-458f-b3d0-56ce4188f69a",
   "metadata": {},
   "outputs": [],
   "source": [
    "# import mysql.connector\n",
    "# mydb = mysql.connector.connect(\n",
    "#   host=\"localhost\",\n",
    "#   user=\"abc\",\n",
    "#   password=\"password\"\n",
    "# )\n",
    "# mycursor = mydb.cursor()\n",
    "# mycursor.execute(\"CREATE DATABASE if not exists test1\")\n",
    "# mycursor.execute(\"CREATE TABLE if not exists test1.test_table (c1 INT , c2 VARCHAR(50) ,c3 INT ,c4 FLOAT , c5 VARCHAR(40))\")\n",
    "# mydb.close()"
   ]
  },
  {
   "cell_type": "markdown",
   "id": "35ff5656-e4d8-4f42-9266-22e915d860a5",
   "metadata": {},
   "source": [
    "# solution 7\n",
    "+ The order of execution of SQL clauses in a query is:\n",
    "\n",
    "1) FROM\n",
    "2) WHERE\n",
    "3) GROUP BY\n",
    "4) HAVING\n",
    "5) SELECT\n",
    "6) ORDER BY\n",
    "7) LIMIT"
   ]
  },
  {
   "cell_type": "code",
   "execution_count": null,
   "id": "94af1fa8-a0d9-4aa7-b266-edf9adc09b73",
   "metadata": {},
   "outputs": [],
   "source": []
  }
 ],
 "metadata": {
  "kernelspec": {
   "display_name": "Python 3 (ipykernel)",
   "language": "python",
   "name": "python3"
  },
  "language_info": {
   "codemirror_mode": {
    "name": "ipython",
    "version": 3
   },
   "file_extension": ".py",
   "mimetype": "text/x-python",
   "name": "python",
   "nbconvert_exporter": "python",
   "pygments_lexer": "ipython3",
   "version": "3.10.8"
  }
 },
 "nbformat": 4,
 "nbformat_minor": 5
}
