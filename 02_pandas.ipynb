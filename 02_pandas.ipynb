{
 "cells": [
  {
   "cell_type": "markdown",
   "id": "a953ae2a-4322-4efb-a8eb-9cc6db021026",
   "metadata": {},
   "source": [
    "# solution 1 \n",
    "+ the following functions are used in pandas \n",
    "+ head - return the first five rows\n",
    "+ tail - gives the last five rows \n",
    "+ describe - gives detail about the data set \n",
    "+ group_by - groups the datasets by mapper function or through series of columns \n",
    "+ merge - merge the datasets or named series "
   ]
  },
  {
   "cell_type": "code",
   "execution_count": 1,
   "id": "fc766898-ba04-444e-98a3-6e677bd889ff",
   "metadata": {},
   "outputs": [],
   "source": [
    "import pandas as pd "
   ]
  },
  {
   "cell_type": "code",
   "execution_count": 2,
   "id": "cc28c181-9e55-4448-870c-021974a0c338",
   "metadata": {},
   "outputs": [],
   "source": [
    "data={'A':[1,2,3,4] , 'B':[5,6,7,8]} \n",
    "df = pd.DataFrame(data)"
   ]
  },
  {
   "cell_type": "code",
   "execution_count": 3,
   "id": "42d311a2-1e9e-45bb-970f-83b2e0a71230",
   "metadata": {},
   "outputs": [
    {
     "name": "stdout",
     "output_type": "stream",
     "text": [
      "   A  B\n",
      "0  1  5\n",
      "1  2  6\n",
      "2  3  7\n",
      "3  4  8\n"
     ]
    }
   ],
   "source": [
    "print(df)"
   ]
  },
  {
   "cell_type": "code",
   "execution_count": 4,
   "id": "3cf4461a-0b4b-4883-aad9-fc893818018f",
   "metadata": {},
   "outputs": [
    {
     "data": {
      "text/html": [
       "<div>\n",
       "<style scoped>\n",
       "    .dataframe tbody tr th:only-of-type {\n",
       "        vertical-align: middle;\n",
       "    }\n",
       "\n",
       "    .dataframe tbody tr th {\n",
       "        vertical-align: top;\n",
       "    }\n",
       "\n",
       "    .dataframe thead th {\n",
       "        text-align: right;\n",
       "    }\n",
       "</style>\n",
       "<table border=\"1\" class=\"dataframe\">\n",
       "  <thead>\n",
       "    <tr style=\"text-align: right;\">\n",
       "      <th></th>\n",
       "      <th>A</th>\n",
       "      <th>B</th>\n",
       "    </tr>\n",
       "  </thead>\n",
       "  <tbody>\n",
       "    <tr>\n",
       "      <th>0</th>\n",
       "      <td>1</td>\n",
       "      <td>5</td>\n",
       "    </tr>\n",
       "    <tr>\n",
       "      <th>1</th>\n",
       "      <td>2</td>\n",
       "      <td>6</td>\n",
       "    </tr>\n",
       "    <tr>\n",
       "      <th>2</th>\n",
       "      <td>3</td>\n",
       "      <td>7</td>\n",
       "    </tr>\n",
       "    <tr>\n",
       "      <th>3</th>\n",
       "      <td>4</td>\n",
       "      <td>8</td>\n",
       "    </tr>\n",
       "  </tbody>\n",
       "</table>\n",
       "</div>"
      ],
      "text/plain": [
       "   A  B\n",
       "0  1  5\n",
       "1  2  6\n",
       "2  3  7\n",
       "3  4  8"
      ]
     },
     "execution_count": 4,
     "metadata": {},
     "output_type": "execute_result"
    }
   ],
   "source": [
    "df.head()"
   ]
  },
  {
   "cell_type": "code",
   "execution_count": 5,
   "id": "98fe19d9-60ca-494f-ab19-8c83444d1237",
   "metadata": {},
   "outputs": [
    {
     "data": {
      "text/html": [
       "<div>\n",
       "<style scoped>\n",
       "    .dataframe tbody tr th:only-of-type {\n",
       "        vertical-align: middle;\n",
       "    }\n",
       "\n",
       "    .dataframe tbody tr th {\n",
       "        vertical-align: top;\n",
       "    }\n",
       "\n",
       "    .dataframe thead th {\n",
       "        text-align: right;\n",
       "    }\n",
       "</style>\n",
       "<table border=\"1\" class=\"dataframe\">\n",
       "  <thead>\n",
       "    <tr style=\"text-align: right;\">\n",
       "      <th></th>\n",
       "      <th>A</th>\n",
       "      <th>B</th>\n",
       "    </tr>\n",
       "  </thead>\n",
       "  <tbody>\n",
       "    <tr>\n",
       "      <th>0</th>\n",
       "      <td>1</td>\n",
       "      <td>5</td>\n",
       "    </tr>\n",
       "    <tr>\n",
       "      <th>1</th>\n",
       "      <td>2</td>\n",
       "      <td>6</td>\n",
       "    </tr>\n",
       "    <tr>\n",
       "      <th>2</th>\n",
       "      <td>3</td>\n",
       "      <td>7</td>\n",
       "    </tr>\n",
       "    <tr>\n",
       "      <th>3</th>\n",
       "      <td>4</td>\n",
       "      <td>8</td>\n",
       "    </tr>\n",
       "  </tbody>\n",
       "</table>\n",
       "</div>"
      ],
      "text/plain": [
       "   A  B\n",
       "0  1  5\n",
       "1  2  6\n",
       "2  3  7\n",
       "3  4  8"
      ]
     },
     "execution_count": 5,
     "metadata": {},
     "output_type": "execute_result"
    }
   ],
   "source": [
    "df.tail()"
   ]
  },
  {
   "cell_type": "code",
   "execution_count": 6,
   "id": "8dd75ef1-0f09-4d7f-9e0b-0209a648dbd0",
   "metadata": {},
   "outputs": [
    {
     "data": {
      "text/html": [
       "<div>\n",
       "<style scoped>\n",
       "    .dataframe tbody tr th:only-of-type {\n",
       "        vertical-align: middle;\n",
       "    }\n",
       "\n",
       "    .dataframe tbody tr th {\n",
       "        vertical-align: top;\n",
       "    }\n",
       "\n",
       "    .dataframe thead th {\n",
       "        text-align: right;\n",
       "    }\n",
       "</style>\n",
       "<table border=\"1\" class=\"dataframe\">\n",
       "  <thead>\n",
       "    <tr style=\"text-align: right;\">\n",
       "      <th></th>\n",
       "      <th>A</th>\n",
       "      <th>B</th>\n",
       "    </tr>\n",
       "  </thead>\n",
       "  <tbody>\n",
       "    <tr>\n",
       "      <th>count</th>\n",
       "      <td>4.000000</td>\n",
       "      <td>4.000000</td>\n",
       "    </tr>\n",
       "    <tr>\n",
       "      <th>mean</th>\n",
       "      <td>2.500000</td>\n",
       "      <td>6.500000</td>\n",
       "    </tr>\n",
       "    <tr>\n",
       "      <th>std</th>\n",
       "      <td>1.290994</td>\n",
       "      <td>1.290994</td>\n",
       "    </tr>\n",
       "    <tr>\n",
       "      <th>min</th>\n",
       "      <td>1.000000</td>\n",
       "      <td>5.000000</td>\n",
       "    </tr>\n",
       "    <tr>\n",
       "      <th>25%</th>\n",
       "      <td>1.750000</td>\n",
       "      <td>5.750000</td>\n",
       "    </tr>\n",
       "    <tr>\n",
       "      <th>50%</th>\n",
       "      <td>2.500000</td>\n",
       "      <td>6.500000</td>\n",
       "    </tr>\n",
       "    <tr>\n",
       "      <th>75%</th>\n",
       "      <td>3.250000</td>\n",
       "      <td>7.250000</td>\n",
       "    </tr>\n",
       "    <tr>\n",
       "      <th>max</th>\n",
       "      <td>4.000000</td>\n",
       "      <td>8.000000</td>\n",
       "    </tr>\n",
       "  </tbody>\n",
       "</table>\n",
       "</div>"
      ],
      "text/plain": [
       "              A         B\n",
       "count  4.000000  4.000000\n",
       "mean   2.500000  6.500000\n",
       "std    1.290994  1.290994\n",
       "min    1.000000  5.000000\n",
       "25%    1.750000  5.750000\n",
       "50%    2.500000  6.500000\n",
       "75%    3.250000  7.250000\n",
       "max    4.000000  8.000000"
      ]
     },
     "execution_count": 6,
     "metadata": {},
     "output_type": "execute_result"
    }
   ],
   "source": [
    "df.describe()"
   ]
  },
  {
   "cell_type": "code",
   "execution_count": 8,
   "id": "5f956ff9-8e8a-41cc-bde6-f8dc956f3d48",
   "metadata": {},
   "outputs": [
    {
     "name": "stdout",
     "output_type": "stream",
     "text": [
      "   B\n",
      "A   \n",
      "1  5\n",
      "2  6\n",
      "3  7\n",
      "4  8\n"
     ]
    }
   ],
   "source": [
    "grouped = df.groupby('A').sum()\n",
    "print(grouped)"
   ]
  },
  {
   "cell_type": "code",
   "execution_count": 9,
   "id": "b80f962a-3882-48d5-a1d5-8ce78b66da2f",
   "metadata": {},
   "outputs": [
    {
     "name": "stdout",
     "output_type": "stream",
     "text": [
      "   A  B    C\n",
      "0  1  5  100\n",
      "1  2  6  200\n",
      "2  3  7  300\n",
      "3  4  8  400\n"
     ]
    }
   ],
   "source": [
    "data2 = {'A': [1, 2, 3, 4, 5], 'C': [100, 200, 300, 400, 500]}\n",
    "df2 = pd.DataFrame(data2)\n",
    "\n",
    "# Merge the two DataFrames\n",
    "merged_df = pd.merge(df, df2, on='A')\n",
    "print(merged_df)\n"
   ]
  },
  {
   "cell_type": "markdown",
   "id": "929a11ce-e515-461d-92f6-52e7ac4ff35c",
   "metadata": {},
   "source": [
    "# solution 2 "
   ]
  },
  {
   "cell_type": "code",
   "execution_count": 11,
   "id": "c090f720-2f29-4e3c-b36c-32363b5218e3",
   "metadata": {},
   "outputs": [
    {
     "name": "stdout",
     "output_type": "stream",
     "text": [
      "   A  B  C\n",
      "1  1  4  7\n",
      "3  2  5  8\n",
      "5  3  6  9\n"
     ]
    }
   ],
   "source": [
    "def reindex_dataframe(df):\n",
    "    # Create a new index that starts from 1 and increments by 2\n",
    "    new_index = range(1, 2*len(df)+1, 2)\n",
    "    # Reindex the DataFrame\n",
    "    df_reindexed = df.copy()\n",
    "    df_reindexed.index = new_index\n",
    "    return df_reindexed\n",
    "\n",
    "# Create a sample DataFrame\n",
    "data = {'A': [1, 2, 3], 'B': [4, 5, 6], 'C': [7, 8, 9]}\n",
    "df = pd.DataFrame(data)\n",
    "\n",
    "# Reindex the DataFrame\n",
    "df_reindexed = reindex_dataframe(df)\n",
    "print(df_reindexed)"
   ]
  },
  {
   "cell_type": "markdown",
   "id": "e8e363c7-5c77-4bc5-94d7-ae18591bf2aa",
   "metadata": {},
   "source": [
    "# solution 3 "
   ]
  },
  {
   "cell_type": "code",
   "execution_count": 14,
   "id": "66ae5dc9-e4db-4713-b2c9-bf3bb439368c",
   "metadata": {},
   "outputs": [
    {
     "name": "stdout",
     "output_type": "stream",
     "text": [
      "the sum of the first three values is : 6\n"
     ]
    }
   ],
   "source": [
    "def sum_first_three(df):\n",
    "    sum_values = df['Values'].iloc[:3].sum();\n",
    "    print(f\"the sum of the first three values is : {sum_values}\")\n",
    "    \n",
    "data = {'Values' : [1,2,3,4,5,6]}\n",
    "df=pd.DataFrame(data)\n",
    "\n",
    "sum_first_three(df)"
   ]
  },
  {
   "cell_type": "markdown",
   "id": "0330a095-dbf0-49e5-b154-ae9f60c81f2a",
   "metadata": {},
   "source": [
    "# solution 4 "
   ]
  },
  {
   "cell_type": "code",
   "execution_count": 15,
   "id": "7465fc74-27f5-452a-8a07-abf417c3ee4c",
   "metadata": {},
   "outputs": [
    {
     "name": "stdout",
     "output_type": "stream",
     "text": [
      "                    text  Word_cnt\n",
      "0            hello world         2\n",
      "1       have a nice day          4\n",
      "2  learning data science         3\n"
     ]
    }
   ],
   "source": [
    "def add_word_cnt(df):\n",
    "    df[\"Word_cnt\"] = df[\"text\"].apply(lambda x: len(str(x).split()))\n",
    "    return df\n",
    "\n",
    "data = {\"text\" : [\"hello world\" , \"have a nice day \" , \"learning data science\"]}\n",
    "df=pd.DataFrame(data)\n",
    "\n",
    "df_with_word_cnt = add_word_cnt(df)\n",
    "print(df_with_word_cnt)\n",
    "        "
   ]
  },
  {
   "cell_type": "markdown",
   "id": "f48898b9-33e0-46b7-815c-af1a0727019d",
   "metadata": {},
   "source": [
    "# solution 5 \n",
    "+ DataFrame.size: Returns the number of elements in the DataFrame, which is the total number of cells. It is equivalent to the number of rows multiplied by the number of columns.\n",
    "+ DataFrame.shape: Returns a tuple representing the dimensionality of the DataFrame. The first element is the number of rows, and the second element is the number of columns.\n",
    "\n",
    "# solution 6 \n",
    "+ the pandas function used to read the excel file is the pd.read_excel(\"file_name\")"
   ]
  },
  {
   "cell_type": "code",
   "execution_count": 16,
   "id": "76abbea9-19ea-442f-b824-ddbff04dc9fa",
   "metadata": {},
   "outputs": [
    {
     "name": "stdout",
     "output_type": "stream",
     "text": [
      "              email username\n",
      "0  keerat@gmail.com   keerat\n",
      "1   naman@gmail.com    naman\n"
     ]
    }
   ],
   "source": [
    "## solution 7 \n",
    "def extract_username(df):\n",
    "    df[\"username\"] = df[\"email\"].apply(lambda x : x.split('@')[0])\n",
    "    return df \n",
    "\n",
    "data = {\"email\" : [\"keerat@gmail.com\" , \"naman@gmail.com\"]}\n",
    "df = pd.DataFrame(data)\n",
    "\n",
    "df = extract_username(df)\n",
    "print(df)"
   ]
  },
  {
   "cell_type": "code",
   "execution_count": 17,
   "id": "f9f8f69a-421c-460c-938f-a9de56dee105",
   "metadata": {},
   "outputs": [
    {
     "name": "stdout",
     "output_type": "stream",
     "text": [
      "   A  B  C\n",
      "1  8  2  7\n",
      "2  6  9  4\n",
      "4  9  1  2\n"
     ]
    }
   ],
   "source": [
    "## solution 8 \n",
    "def sel_rows(df):\n",
    "    selected_df = df[(df['A'] > 5 ) & (df['B']<10)]\n",
    "    return selected_df\n",
    "\n",
    "data = {\n",
    "    'A': [3, 8, 6, 2, 9],\n",
    "    'B': [5, 2, 9, 3, 1],\n",
    "    'C': [1, 7, 4, 5, 2]\n",
    "}\n",
    "df =pd.DataFrame(data)\n",
    "df = sel_rows(df)\n",
    "print(df)"
   ]
  },
  {
   "cell_type": "code",
   "execution_count": 18,
   "id": "87821408-70a8-470b-af60-0e45654cd8f8",
   "metadata": {},
   "outputs": [
    {
     "data": {
      "text/html": [
       "<div>\n",
       "<style scoped>\n",
       "    .dataframe tbody tr th:only-of-type {\n",
       "        vertical-align: middle;\n",
       "    }\n",
       "\n",
       "    .dataframe tbody tr th {\n",
       "        vertical-align: top;\n",
       "    }\n",
       "\n",
       "    .dataframe thead th {\n",
       "        text-align: right;\n",
       "    }\n",
       "</style>\n",
       "<table border=\"1\" class=\"dataframe\">\n",
       "  <thead>\n",
       "    <tr style=\"text-align: right;\">\n",
       "      <th></th>\n",
       "      <th>values</th>\n",
       "    </tr>\n",
       "  </thead>\n",
       "  <tbody>\n",
       "    <tr>\n",
       "      <th>count</th>\n",
       "      <td>5.000000</td>\n",
       "    </tr>\n",
       "    <tr>\n",
       "      <th>mean</th>\n",
       "      <td>30.000000</td>\n",
       "    </tr>\n",
       "    <tr>\n",
       "      <th>std</th>\n",
       "      <td>15.811388</td>\n",
       "    </tr>\n",
       "    <tr>\n",
       "      <th>min</th>\n",
       "      <td>10.000000</td>\n",
       "    </tr>\n",
       "    <tr>\n",
       "      <th>25%</th>\n",
       "      <td>20.000000</td>\n",
       "    </tr>\n",
       "    <tr>\n",
       "      <th>50%</th>\n",
       "      <td>30.000000</td>\n",
       "    </tr>\n",
       "    <tr>\n",
       "      <th>75%</th>\n",
       "      <td>40.000000</td>\n",
       "    </tr>\n",
       "    <tr>\n",
       "      <th>max</th>\n",
       "      <td>50.000000</td>\n",
       "    </tr>\n",
       "  </tbody>\n",
       "</table>\n",
       "</div>"
      ],
      "text/plain": [
       "          values\n",
       "count   5.000000\n",
       "mean   30.000000\n",
       "std    15.811388\n",
       "min    10.000000\n",
       "25%    20.000000\n",
       "50%    30.000000\n",
       "75%    40.000000\n",
       "max    50.000000"
      ]
     },
     "execution_count": 18,
     "metadata": {},
     "output_type": "execute_result"
    }
   ],
   "source": [
    "## solution 9 \n",
    "data = {'values' : [10,20,30,40,50]}\n",
    "df = pd.DataFrame(data)\n",
    "df.describe()\n",
    "        "
   ]
  },
  {
   "cell_type": "code",
   "execution_count": 19,
   "id": "415146dc-032c-4212-ba4c-fbee73468bd3",
   "metadata": {},
   "outputs": [
    {
     "name": "stdout",
     "output_type": "stream",
     "text": [
      "        Date  Sales  Moving_Average\n",
      "0 2023-01-01    100      100.000000\n",
      "1 2023-01-02    200      150.000000\n",
      "2 2023-01-03    150      150.000000\n",
      "3 2023-01-04    300      187.500000\n",
      "4 2023-01-05    250      200.000000\n",
      "5 2023-01-06    400      233.333333\n",
      "6 2023-01-07    350      250.000000\n",
      "7 2023-01-08    500      307.142857\n",
      "8 2023-01-09    450      342.857143\n",
      "9 2023-01-10    600      407.142857\n"
     ]
    }
   ],
   "source": [
    "## solution 10 \n",
    "def moving_avg(df):\n",
    "    df['Date'] = pd.to_datetime(df['Date'])\n",
    "    \n",
    "    df = df.sort_values('Date')\n",
    "    \n",
    "    df['Moving_Average'] = df['Sales'].rolling(window =7  , min_periods=1).mean()\n",
    "    return df \n",
    "    \n",
    "    \n",
    "data = {\n",
    "    'Date': pd.date_range(start='2023-01-01', periods=10, freq='D'),\n",
    "    'Sales': [100, 200, 150, 300, 250, 400, 350, 500, 450, 600]\n",
    "}\n",
    "df = pd.DataFrame(data)\n",
    "\n",
    "df = moving_avg(df)\n",
    "print(df)"
   ]
  },
  {
   "cell_type": "code",
   "execution_count": 20,
   "id": "dc616506-bba7-409f-ab2a-6a2d3cfbea1f",
   "metadata": {},
   "outputs": [
    {
     "name": "stdout",
     "output_type": "stream",
     "text": [
      "        Date    Weekday\n",
      "0 2023-01-01     Sunday\n",
      "1 2023-01-02     Monday\n",
      "2 2023-01-03    Tuesday\n",
      "3 2023-01-04  Wednesday\n",
      "4 2023-01-05   Thursday\n"
     ]
    }
   ],
   "source": [
    "## solution 11 \n",
    "def add_weekday_column(df):\n",
    "    # Ensure the 'Date' column is in datetime format\n",
    "    df['Date'] = pd.to_datetime(df['Date'])\n",
    "    \n",
    "    # Create a new column 'Weekday' with the weekday name\n",
    "    df['Weekday'] = df['Date'].dt.day_name()\n",
    "    return df\n",
    "\n",
    "# Sample DataFrame\n",
    "data = {\n",
    "    'Date': ['2023-01-01', '2023-01-02', '2023-01-03', '2023-01-04', '2023-01-05']\n",
    "}\n",
    "df = pd.DataFrame(data)\n",
    "\n",
    "# Add the 'Weekday' column\n",
    "df = add_weekday_column(df)\n",
    "print(df)\n"
   ]
  },
  {
   "cell_type": "code",
   "execution_count": 21,
   "id": "39523115-eae7-4038-986e-04b61c9bcf1e",
   "metadata": {},
   "outputs": [
    {
     "name": "stdout",
     "output_type": "stream",
     "text": [
      "         Date  Value\n",
      "7  2023-01-01      7\n",
      "8  2023-01-02      8\n",
      "9  2023-01-03      9\n",
      "10 2023-01-04     10\n",
      "11 2023-01-05     11\n",
      "12 2023-01-06     12\n",
      "13 2023-01-07     13\n",
      "14 2023-01-08     14\n"
     ]
    }
   ],
   "source": [
    "## solution 12\n",
    "def select_rows_between_dates(df):\n",
    "    # Ensure the 'Date' column is in datetime format\n",
    "    df['Date'] = pd.to_datetime(df['Date'])\n",
    "    \n",
    "    # Define the date range\n",
    "    start_date = '2023-01-01'\n",
    "    end_date = '2023-01-31'\n",
    "    \n",
    "    # Select rows where the date is between '2023-01-01' and '2023-01-31'\n",
    "    filtered_df = df[(df['Date'] >= start_date) & (df['Date'] <= end_date)]\n",
    "    return filtered_df\n",
    "\n",
    "# Sample DataFrame\n",
    "data = {\n",
    "    'Date': pd.date_range(start='2022-12-25', periods=15, freq='D'),\n",
    "    'Value': range(15)\n",
    "}\n",
    "df = pd.DataFrame(data)\n",
    "\n",
    "# Select rows between the specified dates\n",
    "filtered_df = select_rows_between_dates(df)\n",
    "print(filtered_df)\n"
   ]
  },
  {
   "cell_type": "code",
   "execution_count": 22,
   "id": "dad704c6-f7d1-4fd4-a534-c52f75890061",
   "metadata": {},
   "outputs": [],
   "source": [
    "## solution13 \n",
    "# The first and foremost necessary library that needs to be imported to use the basic functions of pandas is pandas."
   ]
  },
  {
   "cell_type": "code",
   "execution_count": null,
   "id": "2c24e87b-c55a-40b5-bcb9-cf6234a2e473",
   "metadata": {},
   "outputs": [],
   "source": []
  }
 ],
 "metadata": {
  "kernelspec": {
   "display_name": "Python 3 (ipykernel)",
   "language": "python",
   "name": "python3"
  },
  "language_info": {
   "codemirror_mode": {
    "name": "ipython",
    "version": 3
   },
   "file_extension": ".py",
   "mimetype": "text/x-python",
   "name": "python",
   "nbconvert_exporter": "python",
   "pygments_lexer": "ipython3",
   "version": "3.10.8"
  }
 },
 "nbformat": 4,
 "nbformat_minor": 5
}
