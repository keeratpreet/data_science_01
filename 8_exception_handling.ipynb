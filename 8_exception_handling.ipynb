{
 "cells": [
  {
   "cell_type": "markdown",
   "id": "7895430e-438a-44d8-ac76-209bf48882b2",
   "metadata": {},
   "source": [
    "# solution 1\n",
    "+ we create the exception class while creating a custom exception because it helps us to maintain the standards and consistency of the code \n",
    "+ for compatibility \n",
    "+ for context and info\n",
    "# solution 2"
   ]
  },
  {
   "cell_type": "code",
   "execution_count": 12,
   "id": "9bee80b5-a25d-4445-8d59-94e1335922ad",
   "metadata": {},
   "outputs": [
    {
     "name": "stdout",
     "output_type": "stream",
     "text": [
      "Exception\n",
      "TypeError\n",
      "StopAsyncIteration\n",
      "StopIteration\n",
      "GeneratorExit\n",
      "SystemExit\n",
      "KeyboardInterrupt\n",
      "ImportError\n",
      "ModuleNotFoundError\n",
      "OSError\n",
      "EnvironmentError\n",
      "IOError\n",
      "EOFError\n",
      "RuntimeError\n",
      "RecursionError\n",
      "NotImplementedError\n",
      "NameError\n",
      "UnboundLocalError\n",
      "AttributeError\n",
      "SyntaxError\n",
      "IndentationError\n",
      "TabError\n",
      "LookupError\n",
      "IndexError\n",
      "KeyError\n",
      "ValueError\n",
      "UnicodeError\n",
      "UnicodeEncodeError\n",
      "UnicodeDecodeError\n",
      "UnicodeTranslateError\n",
      "AssertionError\n",
      "ArithmeticError\n",
      "FloatingPointError\n",
      "OverflowError\n",
      "ZeroDivisionError\n",
      "SystemError\n",
      "ReferenceError\n",
      "MemoryError\n",
      "BufferError\n",
      "Warning\n",
      "UserWarning\n",
      "EncodingWarning\n",
      "DeprecationWarning\n",
      "PendingDeprecationWarning\n",
      "SyntaxWarning\n",
      "RuntimeWarning\n",
      "FutureWarning\n",
      "ImportWarning\n",
      "UnicodeWarning\n",
      "BytesWarning\n",
      "ResourceWarning\n",
      "ConnectionError\n",
      "BlockingIOError\n",
      "BrokenPipeError\n",
      "ChildProcessError\n",
      "ConnectionAbortedError\n",
      "ConnectionRefusedError\n",
      "ConnectionResetError\n",
      "FileExistsError\n",
      "FileNotFoundError\n",
      "IsADirectoryError\n",
      "NotADirectoryError\n",
      "InterruptedError\n",
      "PermissionError\n",
      "ProcessLookupError\n",
      "TimeoutError\n"
     ]
    }
   ],
   "source": [
    "import sys\n",
    "import builtins\n",
    "\n",
    "def print_exception_classes():\n",
    "    for name, obj in vars(builtins).items():\n",
    "        if isinstance(obj, type) and issubclass(obj, BaseException) and obj is not BaseException:\n",
    "            print(name)\n",
    "\n",
    "print_exception_classes()\n",
    "\n"
   ]
  },
  {
   "cell_type": "markdown",
   "id": "8a033475-d1ae-4519-96b2-c8ccda89de6f",
   "metadata": {},
   "source": [
    "# solution 3\n",
    "+ errors defined in Arithmetic Error class includes \n",
    "1) zero division error \n",
    "2) overflow error "
   ]
  },
  {
   "cell_type": "code",
   "execution_count": 13,
   "id": "5b2cb716-5c59-4b64-b6a0-ac2bf62585c8",
   "metadata": {},
   "outputs": [
    {
     "name": "stdout",
     "output_type": "stream",
     "text": [
      "this is a zero division error\n"
     ]
    }
   ],
   "source": [
    "try :\n",
    "    print(10/0)\n",
    "except :\n",
    "    print(\"this is a zero division error\")\n",
    "    "
   ]
  },
  {
   "cell_type": "code",
   "execution_count": 33,
   "id": "303a28fe-a27b-4395-b1a3-8d6ac5cd4ca9",
   "metadata": {},
   "outputs": [],
   "source": [
    "import math\n",
    "\n",
    "try:\n",
    "    result = math.factorial(10000)  # Attempt to compute 10000!\n",
    "except OverflowError as e:\n",
    "    print(f\"Error: {e}\")\n"
   ]
  },
  {
   "cell_type": "markdown",
   "id": "3466be52-f893-436d-909f-32cf5f404357",
   "metadata": {},
   "source": [
    "# solution 4\n",
    "+ the lookup error class is a base class of the exception class and occurse when the key or the index used is invalid"
   ]
  },
  {
   "cell_type": "code",
   "execution_count": 5,
   "id": "4401789d-d7ac-426e-b581-b7babe14858d",
   "metadata": {},
   "outputs": [
    {
     "name": "stdout",
     "output_type": "stream",
     "text": [
      "Error:'ali'\n"
     ]
    }
   ],
   "source": [
    "## key error\n",
    "student_grades={\"keerat\":95 , \"Mannat\":72 , \"jashan\":65}\n",
    "\n",
    "try:\n",
    "    grade=student_grades[\"ali\"]\n",
    "except KeyError as e:\n",
    "    print(f\"Error:{e}\")"
   ]
  },
  {
   "cell_type": "code",
   "execution_count": 6,
   "id": "63063a07-bb79-4f55-b555-a06dd2991ded",
   "metadata": {},
   "outputs": [
    {
     "name": "stdout",
     "output_type": "stream",
     "text": [
      "list index out of range\n"
     ]
    }
   ],
   "source": [
    "##index error \n",
    "li=[1,23,4,5,6,7,65,45]\n",
    "\n",
    "try:\n",
    "    li[18]\n",
    "except IndexError as e :\n",
    "    print(e)"
   ]
  },
  {
   "cell_type": "markdown",
   "id": "ecd0c72a-2a09-4bad-9e7d-751be33b17f6",
   "metadata": {},
   "source": [
    "# solution 5\n",
    "+ import error and module not found errors in python deals with the exceptions caused by importing the module\n",
    "+ these error occurs when importing the specific module is unsuccessful"
   ]
  },
  {
   "cell_type": "code",
   "execution_count": 7,
   "id": "8b3af697-c26e-4e5d-8ce6-1acdd2c26863",
   "metadata": {},
   "outputs": [
    {
     "name": "stdout",
     "output_type": "stream",
     "text": [
      "cannot import name 'not_existing' from 'math' (/opt/conda/lib/python3.10/lib-dynload/math.cpython-310-x86_64-linux-gnu.so)\n"
     ]
    }
   ],
   "source": [
    "try :\n",
    "    from math import not_existing \n",
    "except ImportError as e:\n",
    "    print(e)"
   ]
  },
  {
   "cell_type": "code",
   "execution_count": 8,
   "id": "c33377a9-a853-4c98-b13b-245c53de7cdd",
   "metadata": {},
   "outputs": [
    {
     "name": "stdout",
     "output_type": "stream",
     "text": [
      "No module named 'non_existent_module'\n"
     ]
    }
   ],
   "source": [
    "try :\n",
    "    import non_existent_module\n",
    "except ModuleNotFoundError as e :\n",
    "    print(e)"
   ]
  },
  {
   "cell_type": "markdown",
   "id": "2547ccd7-01fd-47af-bd39-2136518587ca",
   "metadata": {},
   "source": [
    "# solution-6\n",
    "# best practices \n",
    "+ use always a specific exception not a generalised exception \n",
    "+ print always a valid message \n",
    "+ always try to log (logging) so that we can get the info that what is happening and when \n",
    "+ always avoid to write a multiple exception handling \n",
    "+ prepare a proper documentation \n",
    "+ clean-up all the resources \n"
   ]
  },
  {
   "cell_type": "code",
   "execution_count": null,
   "id": "a0e8b101-120a-411a-9292-86600158031e",
   "metadata": {},
   "outputs": [],
   "source": []
  }
 ],
 "metadata": {
  "kernelspec": {
   "display_name": "Python 3 (ipykernel)",
   "language": "python",
   "name": "python3"
  },
  "language_info": {
   "codemirror_mode": {
    "name": "ipython",
    "version": 3
   },
   "file_extension": ".py",
   "mimetype": "text/x-python",
   "name": "python",
   "nbconvert_exporter": "python",
   "pygments_lexer": "ipython3",
   "version": "3.10.8"
  }
 },
 "nbformat": 4,
 "nbformat_minor": 5
}
