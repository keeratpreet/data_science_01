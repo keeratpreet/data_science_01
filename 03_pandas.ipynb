{
 "cells": [
  {
   "cell_type": "code",
   "execution_count": 1,
   "id": "5da56bf8-f21f-4721-9be9-684ac6ecad0b",
   "metadata": {},
   "outputs": [],
   "source": [
    "## solution 1 "
   ]
  },
  {
   "cell_type": "code",
   "execution_count": 2,
   "id": "a7879d50-b815-4c45-a6ab-f2be5db68103",
   "metadata": {},
   "outputs": [],
   "source": [
    "import pandas as pd\n",
    "\n",
    "course_name = ['Data Science', 'Machine Learning', 'Big Data', 'Data Engineer']\n",
    "duration = [2, 3, 6, 4]\n",
    "df = pd.DataFrame(data = {'course_name': course_name, 'duration': duration})\n"
   ]
  },
  {
   "cell_type": "code",
   "execution_count": 3,
   "id": "ef602b0c-818a-4f55-8798-055f79099b4e",
   "metadata": {},
   "outputs": [
    {
     "data": {
      "text/html": [
       "<div>\n",
       "<style scoped>\n",
       "    .dataframe tbody tr th:only-of-type {\n",
       "        vertical-align: middle;\n",
       "    }\n",
       "\n",
       "    .dataframe tbody tr th {\n",
       "        vertical-align: top;\n",
       "    }\n",
       "\n",
       "    .dataframe thead th {\n",
       "        text-align: right;\n",
       "    }\n",
       "</style>\n",
       "<table border=\"1\" class=\"dataframe\">\n",
       "  <thead>\n",
       "    <tr style=\"text-align: right;\">\n",
       "      <th></th>\n",
       "      <th>course_name</th>\n",
       "      <th>duration</th>\n",
       "    </tr>\n",
       "  </thead>\n",
       "  <tbody>\n",
       "    <tr>\n",
       "      <th>0</th>\n",
       "      <td>Data Science</td>\n",
       "      <td>2</td>\n",
       "    </tr>\n",
       "    <tr>\n",
       "      <th>1</th>\n",
       "      <td>Machine Learning</td>\n",
       "      <td>3</td>\n",
       "    </tr>\n",
       "    <tr>\n",
       "      <th>2</th>\n",
       "      <td>Big Data</td>\n",
       "      <td>6</td>\n",
       "    </tr>\n",
       "    <tr>\n",
       "      <th>3</th>\n",
       "      <td>Data Engineer</td>\n",
       "      <td>4</td>\n",
       "    </tr>\n",
       "  </tbody>\n",
       "</table>\n",
       "</div>"
      ],
      "text/plain": [
       "        course_name  duration\n",
       "0      Data Science         2\n",
       "1  Machine Learning         3\n",
       "2          Big Data         6\n",
       "3     Data Engineer         4"
      ]
     },
     "execution_count": 3,
     "metadata": {},
     "output_type": "execute_result"
    }
   ],
   "source": [
    "df"
   ]
  },
  {
   "cell_type": "code",
   "execution_count": 5,
   "id": "5e436f71-4564-4cb6-90ee-c1315fbeeb6b",
   "metadata": {},
   "outputs": [
    {
     "name": "stdout",
     "output_type": "stream",
     "text": [
      "course_name    Machine Learning\n",
      "duration                      3\n",
      "Name: 1, dtype: object\n"
     ]
    }
   ],
   "source": [
    "print(df.iloc[1])"
   ]
  },
  {
   "cell_type": "markdown",
   "id": "758c71fc-0cc9-4961-af60-e56766dd8df7",
   "metadata": {},
   "source": [
    "## solution 2 \n",
    "+ loc is label-based, which means that you have to specify rows and columns based on their labels.\n",
    "+ iloc is integer index-based, so you have to specify rows and columns by their integer index.\n",
    "# solution 3 "
   ]
  },
  {
   "cell_type": "code",
   "execution_count": 7,
   "id": "f6e6ac02-88e7-4051-89b9-0e3f361426f4",
   "metadata": {},
   "outputs": [],
   "source": [
    "new_df = df.reindex([3,0,1,2])"
   ]
  },
  {
   "cell_type": "code",
   "execution_count": null,
   "id": "2c38758f-b3c3-41fe-8c8d-20297a3e0f70",
   "metadata": {},
   "outputs": [],
   "source": []
  },
  {
   "cell_type": "code",
   "execution_count": 8,
   "id": "b3fb2b88-ed2a-435b-98c5-aa5593e79754",
   "metadata": {},
   "outputs": [
    {
     "data": {
      "text/html": [
       "<div>\n",
       "<style scoped>\n",
       "    .dataframe tbody tr th:only-of-type {\n",
       "        vertical-align: middle;\n",
       "    }\n",
       "\n",
       "    .dataframe tbody tr th {\n",
       "        vertical-align: top;\n",
       "    }\n",
       "\n",
       "    .dataframe thead th {\n",
       "        text-align: right;\n",
       "    }\n",
       "</style>\n",
       "<table border=\"1\" class=\"dataframe\">\n",
       "  <thead>\n",
       "    <tr style=\"text-align: right;\">\n",
       "      <th></th>\n",
       "      <th>course_name</th>\n",
       "      <th>duration</th>\n",
       "    </tr>\n",
       "  </thead>\n",
       "  <tbody>\n",
       "    <tr>\n",
       "      <th>3</th>\n",
       "      <td>Data Engineer</td>\n",
       "      <td>4</td>\n",
       "    </tr>\n",
       "    <tr>\n",
       "      <th>0</th>\n",
       "      <td>Data Science</td>\n",
       "      <td>2</td>\n",
       "    </tr>\n",
       "    <tr>\n",
       "      <th>1</th>\n",
       "      <td>Machine Learning</td>\n",
       "      <td>3</td>\n",
       "    </tr>\n",
       "    <tr>\n",
       "      <th>2</th>\n",
       "      <td>Big Data</td>\n",
       "      <td>6</td>\n",
       "    </tr>\n",
       "  </tbody>\n",
       "</table>\n",
       "</div>"
      ],
      "text/plain": [
       "        course_name  duration\n",
       "3     Data Engineer         4\n",
       "0      Data Science         2\n",
       "1  Machine Learning         3\n",
       "2          Big Data         6"
      ]
     },
     "execution_count": 8,
     "metadata": {},
     "output_type": "execute_result"
    }
   ],
   "source": [
    "new_df"
   ]
  },
  {
   "cell_type": "markdown",
   "id": "095d28b9-0c65-4181-8c10-1a9934a3d516",
   "metadata": {},
   "source": [
    "# solution 4"
   ]
  },
  {
   "cell_type": "code",
   "execution_count": 12,
   "id": "f39b520e-32b1-4536-ad64-075d065f1587",
   "metadata": {},
   "outputs": [
    {
     "name": "stdout",
     "output_type": "stream",
     "text": [
      "column_1    0.278902\n",
      "column_2    0.455767\n",
      "column_3    0.454694\n",
      "column_4    0.627361\n",
      "column_5    0.615787\n",
      "column_6    0.507364\n",
      "dtype: float64\n",
      "0.3351774516978609\n"
     ]
    }
   ],
   "source": [
    "# Assuming df1 is defined as follows:\n",
    "import numpy as np \n",
    "columns = ['column_1', 'column_2', 'column_3', 'column_4', 'column_5', 'column_6']\n",
    "indices = [1, 2, 3, 4, 5, 6]\n",
    "df1 = pd.DataFrame(np.random.rand(6, 6), columns=columns, index=indices)\n",
    "\n",
    "# (i) Mean of each column\n",
    "mean_values = df1.mean()\n",
    "print(mean_values)\n",
    "\n",
    "# (ii) Standard deviation of column_2\n",
    "std_column_2 = df1['column_2'].std()\n",
    "print(std_column_2)\n"
   ]
  },
  {
   "cell_type": "markdown",
   "id": "369b83ac-0c40-4a1e-8cfc-a18ba02d70cb",
   "metadata": {},
   "source": [
    "# solution 5"
   ]
  },
  {
   "cell_type": "code",
   "execution_count": 13,
   "id": "f7a73ebf-8d04-476b-b182-1dbbca60f0f8",
   "metadata": {},
   "outputs": [],
   "source": [
    "df1.loc[2,'column_2']='string_data'"
   ]
  },
  {
   "cell_type": "code",
   "execution_count": 14,
   "id": "95d5d6aa-3069-4e21-8fb5-73a1b2188700",
   "metadata": {},
   "outputs": [
    {
     "data": {
      "text/html": [
       "<div>\n",
       "<style scoped>\n",
       "    .dataframe tbody tr th:only-of-type {\n",
       "        vertical-align: middle;\n",
       "    }\n",
       "\n",
       "    .dataframe tbody tr th {\n",
       "        vertical-align: top;\n",
       "    }\n",
       "\n",
       "    .dataframe thead th {\n",
       "        text-align: right;\n",
       "    }\n",
       "</style>\n",
       "<table border=\"1\" class=\"dataframe\">\n",
       "  <thead>\n",
       "    <tr style=\"text-align: right;\">\n",
       "      <th></th>\n",
       "      <th>column_1</th>\n",
       "      <th>column_2</th>\n",
       "      <th>column_3</th>\n",
       "      <th>column_4</th>\n",
       "      <th>column_5</th>\n",
       "      <th>column_6</th>\n",
       "    </tr>\n",
       "  </thead>\n",
       "  <tbody>\n",
       "    <tr>\n",
       "      <th>1</th>\n",
       "      <td>0.544135</td>\n",
       "      <td>0.543178</td>\n",
       "      <td>0.539533</td>\n",
       "      <td>0.426895</td>\n",
       "      <td>0.964493</td>\n",
       "      <td>0.942146</td>\n",
       "    </tr>\n",
       "    <tr>\n",
       "      <th>2</th>\n",
       "      <td>0.414085</td>\n",
       "      <td>string_data</td>\n",
       "      <td>0.305423</td>\n",
       "      <td>0.530670</td>\n",
       "      <td>0.641753</td>\n",
       "      <td>0.303544</td>\n",
       "    </tr>\n",
       "    <tr>\n",
       "      <th>3</th>\n",
       "      <td>0.250730</td>\n",
       "      <td>0.803486</td>\n",
       "      <td>0.832925</td>\n",
       "      <td>0.710241</td>\n",
       "      <td>0.446286</td>\n",
       "      <td>0.309601</td>\n",
       "    </tr>\n",
       "    <tr>\n",
       "      <th>4</th>\n",
       "      <td>0.049162</td>\n",
       "      <td>0.517125</td>\n",
       "      <td>0.003521</td>\n",
       "      <td>0.841485</td>\n",
       "      <td>0.432960</td>\n",
       "      <td>0.376004</td>\n",
       "    </tr>\n",
       "    <tr>\n",
       "      <th>5</th>\n",
       "      <td>0.130552</td>\n",
       "      <td>0.770846</td>\n",
       "      <td>0.206276</td>\n",
       "      <td>0.593342</td>\n",
       "      <td>0.749133</td>\n",
       "      <td>0.506598</td>\n",
       "    </tr>\n",
       "    <tr>\n",
       "      <th>6</th>\n",
       "      <td>0.284748</td>\n",
       "      <td>0.070094</td>\n",
       "      <td>0.840487</td>\n",
       "      <td>0.661532</td>\n",
       "      <td>0.460096</td>\n",
       "      <td>0.606293</td>\n",
       "    </tr>\n",
       "  </tbody>\n",
       "</table>\n",
       "</div>"
      ],
      "text/plain": [
       "   column_1     column_2  column_3  column_4  column_5  column_6\n",
       "1  0.544135     0.543178  0.539533  0.426895  0.964493  0.942146\n",
       "2  0.414085  string_data  0.305423  0.530670  0.641753  0.303544\n",
       "3  0.250730     0.803486  0.832925  0.710241  0.446286  0.309601\n",
       "4  0.049162     0.517125  0.003521  0.841485  0.432960  0.376004\n",
       "5  0.130552     0.770846  0.206276  0.593342  0.749133  0.506598\n",
       "6  0.284748     0.070094  0.840487  0.661532  0.460096  0.606293"
      ]
     },
     "execution_count": 14,
     "metadata": {},
     "output_type": "execute_result"
    }
   ],
   "source": [
    "df1"
   ]
  },
  {
   "cell_type": "code",
   "execution_count": 15,
   "id": "62836770-fb78-4c1d-afa6-27d5eb534dad",
   "metadata": {},
   "outputs": [
    {
     "name": "stdout",
     "output_type": "stream",
     "text": [
      "not possible because all values should be numeric\n"
     ]
    }
   ],
   "source": [
    "try :\n",
    "    df1['coumn_2'].mean()\n",
    "except :\n",
    "    print(\"not possible because all values should be numeric\")"
   ]
  },
  {
   "cell_type": "markdown",
   "id": "38415fed-c6ec-427a-ac1a-d47eae4c0b5d",
   "metadata": {},
   "source": [
    "# solution 6\n",
    "+ Windows functions in pandas allow you to perform calculations across a sliding window of data. Types of window functions include:\n",
    "\n",
    "+ rolling(): Provides rolling window calculations.\n",
    "+ expanding(): Provides expanding window calculations.\n",
    "+ ewm(): Provides exponentially weighted window calculations.\n",
    "\n",
    "# solution 7"
   ]
  },
  {
   "cell_type": "code",
   "execution_count": 28,
   "id": "09a9bd0d-6f97-4e69-b7b9-fca57669962f",
   "metadata": {},
   "outputs": [],
   "source": [
    "\n",
    "df_date = pd.DataFrame({\"date\" : ['2024-21-07']})\n"
   ]
  },
  {
   "cell_type": "code",
   "execution_count": 30,
   "id": "1323dc69-6190-480b-9513-75e5060e77c6",
   "metadata": {},
   "outputs": [
    {
     "data": {
      "text/plain": [
       "date    object\n",
       "dtype: object"
      ]
     },
     "execution_count": 30,
     "metadata": {},
     "output_type": "execute_result"
    }
   ],
   "source": [
    "df_date.dtypes"
   ]
  },
  {
   "cell_type": "code",
   "execution_count": 33,
   "id": "58e48248-6d76-4c8d-b041-7d05ec2d728c",
   "metadata": {},
   "outputs": [],
   "source": [
    "new_df = pd.DataFrame({\"date\":[\"2024-07-21\"]})"
   ]
  },
  {
   "cell_type": "code",
   "execution_count": 34,
   "id": "8332dde6-9821-436d-beb0-488971eacedd",
   "metadata": {},
   "outputs": [],
   "source": [
    "new_df['update_date'] = pd.to_datetime(new_df['date'])"
   ]
  },
  {
   "cell_type": "code",
   "execution_count": 35,
   "id": "17e426a7-8ca7-4988-a062-c9c4b08b3fc5",
   "metadata": {},
   "outputs": [
    {
     "data": {
      "text/html": [
       "<div>\n",
       "<style scoped>\n",
       "    .dataframe tbody tr th:only-of-type {\n",
       "        vertical-align: middle;\n",
       "    }\n",
       "\n",
       "    .dataframe tbody tr th {\n",
       "        vertical-align: top;\n",
       "    }\n",
       "\n",
       "    .dataframe thead th {\n",
       "        text-align: right;\n",
       "    }\n",
       "</style>\n",
       "<table border=\"1\" class=\"dataframe\">\n",
       "  <thead>\n",
       "    <tr style=\"text-align: right;\">\n",
       "      <th></th>\n",
       "      <th>date</th>\n",
       "      <th>update_date</th>\n",
       "    </tr>\n",
       "  </thead>\n",
       "  <tbody>\n",
       "    <tr>\n",
       "      <th>0</th>\n",
       "      <td>2024-07-21</td>\n",
       "      <td>2024-07-21</td>\n",
       "    </tr>\n",
       "  </tbody>\n",
       "</table>\n",
       "</div>"
      ],
      "text/plain": [
       "         date update_date\n",
       "0  2024-07-21  2024-07-21"
      ]
     },
     "execution_count": 35,
     "metadata": {},
     "output_type": "execute_result"
    }
   ],
   "source": [
    "new_df"
   ]
  },
  {
   "cell_type": "code",
   "execution_count": 36,
   "id": "12df9e35-5191-43ea-a293-ab25da95c478",
   "metadata": {},
   "outputs": [],
   "source": [
    "month = new_df['update_date'].dt.month"
   ]
  },
  {
   "cell_type": "code",
   "execution_count": 37,
   "id": "b6341ff5-4f12-417b-9296-b8c953b08c29",
   "metadata": {},
   "outputs": [
    {
     "data": {
      "text/plain": [
       "0    7\n",
       "Name: update_date, dtype: int64"
      ]
     },
     "execution_count": 37,
     "metadata": {},
     "output_type": "execute_result"
    }
   ],
   "source": [
    "month"
   ]
  },
  {
   "cell_type": "markdown",
   "id": "213543f0-4104-45b2-8a5b-404daac50d73",
   "metadata": {},
   "source": [
    "# solution 8 "
   ]
  },
  {
   "cell_type": "code",
   "execution_count": 38,
   "id": "e6f04110-55f4-4215-91e7-2c0cce96eac7",
   "metadata": {},
   "outputs": [
    {
     "name": "stdin",
     "output_type": "stream",
     "text": [
      "Enter the first date (YYYY-MM-DD):  2024-02-21\n",
      "Enter the second date (YYYY-MM-DD):  2024-07-21\n"
     ]
    },
    {
     "name": "stdout",
     "output_type": "stream",
     "text": [
      "Difference: 151 days, 0 hours, and 0 minutes\n"
     ]
    }
   ],
   "source": [
    "import pandas as pd\n",
    "\n",
    "# Take input from the user\n",
    "date1 = input(\"Enter the first date (YYYY-MM-DD): \")\n",
    "date2 = input(\"Enter the second date (YYYY-MM-DD): \")\n",
    "\n",
    "# Convert the input to datetime\n",
    "date1 = pd.to_datetime(date1)\n",
    "date2 = pd.to_datetime(date2)\n",
    "\n",
    "# Calculate the difference\n",
    "delta = date2 - date1\n",
    "\n",
    "days = delta.days\n",
    "hours = delta.seconds // 3600\n",
    "minutes = (delta.seconds // 60) % 60\n",
    "\n",
    "print(f\"Difference: {days} days, {hours} hours, and {minutes} minutes\")"
   ]
  },
  {
   "cell_type": "markdown",
   "id": "dc1498e6-16a5-44a1-9cf7-65837a25a39c",
   "metadata": {},
   "source": [
    "# solution 9 "
   ]
  },
  {
   "cell_type": "code",
   "execution_count": 39,
   "id": "cb7f7c08-8d10-4d9d-a4ec-66fdffe79874",
   "metadata": {},
   "outputs": [],
   "source": [
    "#     import pandas as pd\n",
    "    \n",
    "#     # Prompt the user to enter the file path, column name, and category order\n",
    "#     file_path = input(\"Enter the file path of the CSV file: \")\n",
    "#     column_name = input(\"Enter the column name to convert to categorical: \")\n",
    "#     category_order = input(\"Enter the category order (comma-separated): \").split(',')\n",
    "    \n",
    "#     # Read the CSV file\n",
    "#     df = pd.read_csv(file_path)\n",
    "    \n",
    "#     # Convert the specified column to categorical data type\n",
    "#     df[column_name] = pd.Categorical(df[column_name], categories=category_order, ordered=True)\n",
    "    \n",
    "#     # Display the sorted data\n",
    "#     sorted_df = df.sort_values(by=column_name)\n",
    "#     print(sorted_df)\n"
   ]
  },
  {
   "cell_type": "markdown",
   "id": "6f8ea253-3ec1-4e25-a7fc-12843a61b7c9",
   "metadata": {},
   "source": [
    "# solution 10"
   ]
  },
  {
   "cell_type": "code",
   "execution_count": 41,
   "id": "6e8ec106-0aaa-42cd-b6b6-fb4927800209",
   "metadata": {},
   "outputs": [],
   "source": [
    "\n",
    "# import pandas as pd\n",
    "# import matplotlib.pyplot as plt\n",
    "\n",
    "# # Prompt the user to enter the file path\n",
    "# file_path = input(\"Enter the file path of the CSV file: \")\n",
    "\n",
    "# # Read the CSV file\n",
    "# df = pd.read_csv(file_path)\n",
    "\n",
    "# # Assuming the CSV has columns: 'Date', 'Product', and 'Sales'\n",
    "# df['Date'] = pd.to_datetime(df['Date'])\n",
    "# df.set_index('Date', inplace=True)\n",
    "\n",
    "# # Pivot the data to get product categories as columns\n",
    "# df_pivot = df.pivot_table(values='Sales', index=df.index, columns='Product', aggfunc='sum')\n",
    "\n",
    "# # Plot the stacked bar chart\n",
    "# df_pivot.plot(kind='bar', stacked=True)\n",
    "# plt.xlabel('Date')\n",
    "# plt.ylabel('Sales')\n",
    "# plt.title('Sales of each product category over time')\n",
    "# plt.show()\n"
   ]
  },
  {
   "cell_type": "markdown",
   "id": "e3bcfe5b-d1fa-4117-8084-a6aa17163cbc",
   "metadata": {},
   "source": [
    "# solution 11"
   ]
  },
  {
   "cell_type": "code",
   "execution_count": 42,
   "id": "2a95f074-e388-47fd-97bd-5d005ba62f75",
   "metadata": {},
   "outputs": [],
   "source": [
    "#    import pandas as pd\n",
    "#    from scipy import stats\n",
    "   \n",
    "#    # Prompt the user to enter the file path\n",
    "#    file_path = input(\"Enter the file path of the CSV file containing the student data: \")\n",
    "   \n",
    "#    # Read the CSV file into a Pandas DataFrame\n",
    "#    df = pd.read_csv(file_path)\n",
    "   \n",
    "#    # Calculate the mean, median, and mode of the test scores\n",
    "#    mean_score = df['Test Score'].mean()\n",
    "#    median_score = df['Test Score'].median()\n",
    "#    mode_score = df['Test Score'].mode().tolist()\n",
    "   \n",
    "#    # Display the results in a table\n",
    "#    print(f\"+-----------+--------+\")\n",
    "#    print(f\"| Statistic | Value  |\")\n",
    "#    print(f\"+-----------+--------+\")\n",
    "#    print(f\"| Mean      | {mean_score:.2f}   |\")\n",
    "#    print(f\"| Median    | {median_score}   |\")\n",
    "#    print(f\"| Mode      | {', '.join(map(str, mode_score))} |\")\n",
    "#    print(f\"+-----------+--------+\")\n"
   ]
  },
  {
   "cell_type": "code",
   "execution_count": null,
   "id": "4911868e-13f5-40da-9dc1-f1e99df52c87",
   "metadata": {},
   "outputs": [],
   "source": []
  }
 ],
 "metadata": {
  "kernelspec": {
   "display_name": "Python 3 (ipykernel)",
   "language": "python",
   "name": "python3"
  },
  "language_info": {
   "codemirror_mode": {
    "name": "ipython",
    "version": 3
   },
   "file_extension": ".py",
   "mimetype": "text/x-python",
   "name": "python",
   "nbconvert_exporter": "python",
   "pygments_lexer": "ipython3",
   "version": "3.10.8"
  }
 },
 "nbformat": 4,
 "nbformat_minor": 5
}
