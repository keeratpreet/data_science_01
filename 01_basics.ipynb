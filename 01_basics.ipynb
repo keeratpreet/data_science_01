{
 "cells": [
  {
   "cell_type": "markdown",
   "id": "7b8b3127-fdf7-4d14-b042-96c4f5a02c01",
   "metadata": {},
   "source": [
    "# solution 1\n"
   ]
  },
  {
   "cell_type": "code",
   "execution_count": 10,
   "id": "15802cef-bc2f-4869-b2c6-1c0d772595f8",
   "metadata": {},
   "outputs": [
    {
     "name": "stdin",
     "output_type": "stream",
     "text": [
      "enter your marks 78\n"
     ]
    }
   ],
   "source": [
    "marks = int(input(\"enter your marks\"))"
   ]
  },
  {
   "cell_type": "code",
   "execution_count": 11,
   "id": "66f8c11a-164c-4ce6-b3b4-d3cc0eab179f",
   "metadata": {},
   "outputs": [
    {
     "name": "stdout",
     "output_type": "stream",
     "text": [
      "C\n"
     ]
    }
   ],
   "source": [
    "if(marks >90) :\n",
    "    print(\"A\")\n",
    "elif(marks > 80) :\n",
    "    print(\"B\")\n",
    "elif(marks >=60):\n",
    "    print(\"C\")\n",
    "else :\n",
    "    print(\"D\")"
   ]
  },
  {
   "cell_type": "markdown",
   "id": "7a2e1293-3f5a-4324-bf09-704a0cf0fec7",
   "metadata": {},
   "source": [
    "# solution 2"
   ]
  },
  {
   "cell_type": "code",
   "execution_count": 14,
   "id": "05097259-ec76-456a-8f92-b82050d8988f",
   "metadata": {},
   "outputs": [
    {
     "name": "stdin",
     "output_type": "stream",
     "text": [
      "enter the bike's cost  price  70000\n"
     ]
    },
    {
     "name": "stdout",
     "output_type": "stream",
     "text": [
      "the tax will be 7000.0\n"
     ]
    }
   ],
   "source": [
    "cost_price = int(input(\"enter the bike's cost  price \"))\n",
    "\n",
    "if(cost_price > 100000) :\n",
    "    print(\"the tax will be {}\" .format(cost_price*0.15))\n",
    "elif(cost_price >50000) :\n",
    "    print(\"the tax will be {}\" .format(cost_price*0.1))\n",
    "else :\n",
    "    print(\"the tax will be {}\" .format(cost_price*0.05))"
   ]
  },
  {
   "cell_type": "markdown",
   "id": "cdbbe7a2-7ece-469c-b89f-796da3275202",
   "metadata": {},
   "source": [
    "\n",
    "# solution 3"
   ]
  },
  {
   "cell_type": "code",
   "execution_count": 19,
   "id": "222d96f7-8c86-430f-a989-eba696e92b5e",
   "metadata": {},
   "outputs": [
    {
     "name": "stdin",
     "output_type": "stream",
     "text": [
      "enter the city name ->  Delhi\n"
     ]
    },
    {
     "name": "stdout",
     "output_type": "stream",
     "text": [
      "Red Fort\n"
     ]
    }
   ],
   "source": [
    "city_monument={\"Delhi\" : \"Red Fort\" , \"Agra\" : \"Taj Mahal\" , \"Jaipur\":\"jal Mahal\"}\n",
    "city = input(\"enter the city name -> \")\n",
    "if(city in city_monument.keys()) :\n",
    "    print(city_monument[city])"
   ]
  },
  {
   "cell_type": "code",
   "execution_count": 22,
   "id": "3b1b06fc-6c11-4df4-863a-dc3784ab7b4e",
   "metadata": {},
   "outputs": [
    {
     "name": "stdin",
     "output_type": "stream",
     "text": [
      "enter the city name ->  Jaipur\n"
     ]
    },
    {
     "name": "stdout",
     "output_type": "stream",
     "text": [
      "jal Mahal\n"
     ]
    }
   ],
   "source": [
    "city_monument={\"Delhi\" : \"Red Fort\" , \"Agra\" : \"Taj Mahal\" , \"Jaipur\":\"jal Mahal\"}\n",
    "city = input(\"enter the city name -> \")\n",
    "if(city in city_monument.keys()) :\n",
    "    print(city_monument[city])"
   ]
  },
  {
   "cell_type": "markdown",
   "id": "a483a6a6-e5a1-44a1-91a7-5f7207b673a5",
   "metadata": {},
   "source": [
    "# solution 4 "
   ]
  },
  {
   "cell_type": "code",
   "execution_count": 25,
   "id": "f763f808-14cd-4d6c-a2a9-f0c44dece715",
   "metadata": {},
   "outputs": [
    {
     "name": "stdin",
     "output_type": "stream",
     "text": [
      "enter the number ->  30\n"
     ]
    },
    {
     "name": "stdout",
     "output_type": "stream",
     "text": [
      "1\n"
     ]
    }
   ],
   "source": [
    "num = int(input(\"enter the number -> \"))\n",
    "cnt=0\n",
    "while(num >=10 and num%3 == 0):\n",
    "    cnt=cnt+1\n",
    "    num = num/3\n",
    "    \n",
    "print(cnt)"
   ]
  },
  {
   "cell_type": "code",
   "execution_count": 27,
   "id": "d1ee6f83-2a9b-4935-993c-097bd95d84c9",
   "metadata": {},
   "outputs": [
    {
     "name": "stdin",
     "output_type": "stream",
     "text": [
      "enter the number ->  81\n"
     ]
    },
    {
     "name": "stdout",
     "output_type": "stream",
     "text": [
      "2\n"
     ]
    }
   ],
   "source": [
    "num = int(input(\"enter the number -> \"))\n",
    "cnt=0\n",
    "while(num >=10 and num%3 == 0):\n",
    "    cnt=cnt+1\n",
    "    num = num/3\n",
    "    \n",
    "print(cnt)"
   ]
  },
  {
   "cell_type": "markdown",
   "id": "fd008ae2-6791-4533-9a3d-2c957eedaffb",
   "metadata": {},
   "source": [
    "# solution 5\n",
    "+ while loop is generally used when we want to do a particular thing until a particular condition is met because in these cases we generally dion't know that how many times we need to iterate "
   ]
  },
  {
   "cell_type": "code",
   "execution_count": 28,
   "id": "da91edfe-4439-494a-8198-0b30ca825173",
   "metadata": {},
   "outputs": [
    {
     "name": "stdout",
     "output_type": "stream",
     "text": [
      "10\n",
      "9\n",
      "8\n",
      "7\n",
      "6\n",
      "5\n",
      "4\n",
      "3\n",
      "2\n",
      "1\n",
      "0\n"
     ]
    }
   ],
   "source": [
    "n=10 \n",
    "while(n>=0):\n",
    "    print(n)\n",
    "    n=n-1"
   ]
  },
  {
   "cell_type": "markdown",
   "id": "a364527c-a1da-469a-9c08-4401d078f057",
   "metadata": {},
   "source": [
    "# solution 6"
   ]
  },
  {
   "cell_type": "code",
   "execution_count": 48,
   "id": "85bd3b03-198d-4a61-b7cf-7b4e90732f79",
   "metadata": {},
   "outputs": [
    {
     "name": "stdin",
     "output_type": "stream",
     "text": [
      "enter the number ->  5\n"
     ]
    },
    {
     "name": "stdout",
     "output_type": "stream",
     "text": [
      "*****\n",
      "****\n",
      "***\n",
      "**\n",
      "*\n",
      "\n",
      "\n",
      "\n",
      "*\n",
      "**\n",
      "***\n",
      "****\n",
      "*****\n"
     ]
    }
   ],
   "source": [
    "n= int(input(\"enter the number -> \"))\n",
    "i=1\n",
    "j=1 \n",
    "while(i<=n):\n",
    "    j=i\n",
    "    while(j<=n):\n",
    "        print(\"*\" , end='')\n",
    "        j=j+1\n",
    "    print()\n",
    "    i=i+1\n",
    "    \n",
    "print()\n",
    "print()\n",
    "print()\n",
    "i=n\n",
    "j=n\n",
    "while(i>=1):\n",
    "    j=n-i+1\n",
    "    while(j>=1):\n",
    "        print(\"*\" , end='')\n",
    "        j=j-1\n",
    "    print()\n",
    "    i=i-1"
   ]
  },
  {
   "cell_type": "code",
   "execution_count": 49,
   "id": "a635d8ff-0e1f-424e-86e4-80c1f26dd825",
   "metadata": {},
   "outputs": [
    {
     "name": "stdin",
     "output_type": "stream",
     "text": [
      "enter the no. of rows 5\n"
     ]
    },
    {
     "name": "stdout",
     "output_type": "stream",
     "text": [
      "    *\n",
      "   ***\n",
      "  *****\n",
      " *******\n",
      "*********\n"
     ]
    }
   ],
   "source": [
    "rowscnt = int(input(\"enter the no. of rows\")) \n",
    "row=0 \n",
    "while (row<rowscnt) :\n",
    "    row+=1 #increase the row count \n",
    "    spaces=rowscnt-row \n",
    "    sc=0 #space counter \n",
    "    while(sc<spaces):\n",
    "        print(\" \" , end='') \n",
    "        sc+=1\n",
    "        \n",
    "    stars = 2*row-1 ; \n",
    "    while(stars > 0) :\n",
    "        print(\"*\",end='')\n",
    "        stars-=1 ;\n",
    "        \n",
    "    print()"
   ]
  },
  {
   "cell_type": "markdown",
   "id": "d9614ba4-eee3-4a0f-86ca-22ba770b14fc",
   "metadata": {},
   "source": [
    "# solution 7 & 8"
   ]
  },
  {
   "cell_type": "code",
   "execution_count": 50,
   "id": "3a83bb57-b7fc-46c0-a3e1-5a8ec66c6f2a",
   "metadata": {},
   "outputs": [
    {
     "name": "stdout",
     "output_type": "stream",
     "text": [
      "10\n",
      "9\n",
      "8\n",
      "7\n",
      "6\n",
      "5\n",
      "4\n",
      "3\n",
      "2\n",
      "1\n"
     ]
    }
   ],
   "source": [
    "n=10\n",
    "while(n>0):\n",
    "    print(n)\n",
    "    n-=1"
   ]
  },
  {
   "cell_type": "code",
   "execution_count": null,
   "id": "bd0615a8-4b49-4456-9d76-d524a934dbdd",
   "metadata": {},
   "outputs": [],
   "source": []
  }
 ],
 "metadata": {
  "kernelspec": {
   "display_name": "Python 3 (ipykernel)",
   "language": "python",
   "name": "python3"
  },
  "language_info": {
   "codemirror_mode": {
    "name": "ipython",
    "version": 3
   },
   "file_extension": ".py",
   "mimetype": "text/x-python",
   "name": "python",
   "nbconvert_exporter": "python",
   "pygments_lexer": "ipython3",
   "version": "3.10.8"
  }
 },
 "nbformat": 4,
 "nbformat_minor": 5
}
