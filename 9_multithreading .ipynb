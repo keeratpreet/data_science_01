{
 "cells": [
  {
   "cell_type": "markdown",
   "id": "0f950320-654f-47e9-8ba1-6172c82f0cb4",
   "metadata": {},
   "source": [
    "# solution 1\n",
    "+ MultiThreading is a process in which multiple threads run on a single processor \n",
    "+ it is used to improve the overall performance of the program \n",
    "+ the Threading module is used to access the functionality"
   ]
  },
  {
   "cell_type": "markdown",
   "id": "a9a63246-cd79-49c2-976c-9e242d7dd793",
   "metadata": {},
   "source": [
    "# solution 2 \n",
    "+ threading module is used to get acces to the functionalities provided by the module\n",
    "+ it enables to run multiple threads on a single processor on timely basis i.e providing concurrent execution\n",
    "+ activeCount : return thre count of active threads\n",
    "+ currentThread : returns the current thread of the object \n",
    "+ enumerate : returns the list of the active threads"
   ]
  },
  {
   "cell_type": "markdown",
   "id": "cf542d16-e80e-47be-b981-28c9e9c98729",
   "metadata": {},
   "source": [
    "# solution 3\n",
    "+ run() : it is used to execute the target function passed to the thread object \n",
    "+ start() : it begins the thread activity by invoking the run method \n",
    "+ join() : Waits for the thread to terminate, blocking the calling thread.\n",
    "+ isAlive() : Checks if the thread is still running "
   ]
  },
  {
   "cell_type": "markdown",
   "id": "320623ea-cba2-4f6d-9de8-65d0da1a3e56",
   "metadata": {},
   "source": [
    "#  solution 4"
   ]
  },
  {
   "cell_type": "code",
   "execution_count": 1,
   "id": "df40c766-9c92-4088-9501-bc1cc19ec9be",
   "metadata": {},
   "outputs": [
    {
     "name": "stdout",
     "output_type": "stream",
     "text": [
      "squares : [1, 4, 9, 16, 25]\n",
      "cubes : [1, 8, 27, 64, 125]\n"
     ]
    }
   ],
   "source": [
    "import threading\n",
    "\n",
    "def print_squares(numbers):\n",
    "    squares=[n**2 for n in numbers]\n",
    "    print(f\"squares : {squares}\")\n",
    "    \n",
    "def print_cubes(numbers):\n",
    "    cubes=[n**3 for n in numbers]\n",
    "    print(f\"cubes : {cubes}\")\n",
    "    \n",
    "numbers=[1,2,3,4,5]\n",
    "\n",
    "\n",
    "thread1 = threading.Thread(target=print_squares , args=(numbers,))\n",
    "thread2 = threading.Thread(target=print_cubes, args=(numbers,))\n",
    "\n",
    "##start the thread\n",
    "thread1.start()\n",
    "thread2.start()\n",
    "\n",
    "#wait for both threads to complete\n",
    "thread1.join()\n",
    "thread2.join()"
   ]
  },
  {
   "cell_type": "markdown",
   "id": "f213c830-bb75-4478-8ca7-25028c65d0ad",
   "metadata": {},
   "source": [
    "# solution 5 \n",
    "+ Advantages of MultiThreading\n",
    "1) improved performance\n",
    "2) responsveness\n",
    "3) simplified design\n",
    "\n",
    "+ Disadvantages\n",
    "1) complexity\n",
    "2) overhead\n",
    "3) lock issues"
   ]
  },
  {
   "cell_type": "markdown",
   "id": "aef40e14-8fd4-49e8-9942-74ae4b8f85c4",
   "metadata": {},
   "source": [
    "# solution 6\n",
    "+ deadlock is the situation when multiple processes are holding a resource required by others and demand the resource which other holds , therefore no-one is able to complete itself \n",
    "+ A race condition occurs when the behavior of a program depends on the relative timing of threads, leading to unpredictable results. It happens when two or more threads access shared data simultaneously and try to change it.\n"
   ]
  },
  {
   "cell_type": "code",
   "execution_count": null,
   "id": "faede026-e651-490d-8771-c2b0c9c11526",
   "metadata": {},
   "outputs": [],
   "source": []
  }
 ],
 "metadata": {
  "kernelspec": {
   "display_name": "Python 3 (ipykernel)",
   "language": "python",
   "name": "python3"
  },
  "language_info": {
   "codemirror_mode": {
    "name": "ipython",
    "version": 3
   },
   "file_extension": ".py",
   "mimetype": "text/x-python",
   "name": "python",
   "nbconvert_exporter": "python",
   "pygments_lexer": "ipython3",
   "version": "3.10.8"
  }
 },
 "nbformat": 4,
 "nbformat_minor": 5
}
