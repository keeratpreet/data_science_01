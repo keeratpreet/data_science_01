{
 "cells": [
  {
   "cell_type": "markdown",
   "id": "4db78c3c-d4b5-4273-bc0d-b85b4418bd83",
   "metadata": {},
   "source": [
    "# solution 1\n",
    "+ In Python, the function used to open a file is open(). This function returns a file object, which can be used to read, write, or manipulate the file.\n",
    "+ syntax : file_object = open(file_name, mode)\n",
    "+ different modes are available such as :\n",
    "1) read \"r\" : gives the reading functionality\n",
    "2) write \"w\" : gives the access to overwrite the content\n",
    "3) append \"a\" : new darta is written at the end of existing file \n",
    "4) binary mode \"b\" : opens the file in binary format \n",
    "5) read and write mode \"+\" : can read and write both "
   ]
  },
  {
   "cell_type": "markdown",
   "id": "5467d7bb-8392-40c8-ab27-fb8a99262543",
   "metadata": {},
   "source": [
    "# solution 2 \n",
    "+ close function is used to close the file . it is  important for various reasons \n",
    "1) for resource managment \n",
    "2) to avoid corruption of data \n",
    "3)  freeing up system resources\n"
   ]
  },
  {
   "cell_type": "markdown",
   "id": "b398dfc1-9da5-46b7-896a-b7e4f59e60db",
   "metadata": {},
   "source": [
    "# solution 3"
   ]
  },
  {
   "cell_type": "code",
   "execution_count": 7,
   "id": "691d40b0-d1be-4efb-9b7a-e28013334c85",
   "metadata": {},
   "outputs": [],
   "source": [
    "f=open(\"test.txt\" , \"w\")"
   ]
  },
  {
   "cell_type": "code",
   "execution_count": 8,
   "id": "429b9233-9ed5-4ba3-9ff5-d087ef8c105d",
   "metadata": {},
   "outputs": [],
   "source": [
    "f.write(\"i want to be a data scientist\")\n",
    "f.close()"
   ]
  },
  {
   "cell_type": "code",
   "execution_count": 9,
   "id": "f4690537-f41e-485e-ae7f-e8e274e2fbd9",
   "metadata": {},
   "outputs": [],
   "source": [
    "data = open(\"test.txt\" , \"r\")"
   ]
  },
  {
   "cell_type": "code",
   "execution_count": 11,
   "id": "59a8f771-3ad4-4f09-afe2-074c70edcb4c",
   "metadata": {},
   "outputs": [
    {
     "data": {
      "text/plain": [
       "'i want to be a data scientist'"
      ]
     },
     "execution_count": 11,
     "metadata": {},
     "output_type": "execute_result"
    }
   ],
   "source": [
    "data.read()"
   ]
  },
  {
   "cell_type": "markdown",
   "id": "08b9ec85-57dd-4080-b4aa-05b9530a9c4e",
   "metadata": {},
   "source": [
    "# solution 4 \n",
    "+ read : it is used to read the entire data of the file \n",
    "+ readline : reads a single line of the file \n",
    "+ readlines : reads all the lines and returns a list of strings "
   ]
  },
  {
   "cell_type": "code",
   "execution_count": 37,
   "id": "a167780d-b2ee-4e35-853d-a23a24f62e63",
   "metadata": {},
   "outputs": [],
   "source": [
    "# Writing to the file\n",
    "with open(\"example.txt\", \"w\") as f:\n",
    "    f.write(\"hello all how are you all\\n\")\n",
    "    f.write(\"this is the second line\\n\")\n",
    "    f.write(\"this is the third line\\n\")\n",
    "    f.write(\"this is the fourth line\\n\")\n"
   ]
  },
  {
   "cell_type": "code",
   "execution_count": 38,
   "id": "dada7efd-feff-48d9-ae36-5c77d77158f3",
   "metadata": {},
   "outputs": [
    {
     "name": "stdout",
     "output_type": "stream",
     "text": [
      "using read :\n",
      "hello all how are you all\n",
      "this is the second line\n",
      "this is the third line\n",
      "this is the fourth line\n",
      "\n"
     ]
    }
   ],
   "source": [
    "with open(\"example.txt\" ,\"r\") as f :\n",
    "    content=f.read()\n",
    "    \n",
    "print(\"using read :\")\n",
    "print(content) "
   ]
  },
  {
   "cell_type": "code",
   "execution_count": 39,
   "id": "2b79d068-d3c4-4f82-93cc-174095a40e9e",
   "metadata": {},
   "outputs": [
    {
     "name": "stdout",
     "output_type": "stream",
     "text": [
      "hello all how are you all\n"
     ]
    }
   ],
   "source": [
    "with open(\"example.txt\" ,\"r\") as f :\n",
    "    line = f.readline()\n",
    "\n",
    "print(line , end=\"\")\n"
   ]
  },
  {
   "cell_type": "code",
   "execution_count": 43,
   "id": "63866cf2-5725-430b-a85a-675f9581a430",
   "metadata": {},
   "outputs": [
    {
     "name": "stdout",
     "output_type": "stream",
     "text": [
      "['hello all how are you all\\n', 'this is the second line\\n', 'this is the third line\\n', 'this is the fourth line\\n']\n"
     ]
    }
   ],
   "source": [
    "with open(\"example.txt\" , \"r\") as f :\n",
    "    lines = f.readlines()\n",
    "print(lines)"
   ]
  },
  {
   "cell_type": "markdown",
   "id": "6f2cca9b-a9ef-428e-997a-59c28fa5b486",
   "metadata": {},
   "source": [
    "# solution 5 \n",
    "+ The with statement provides a clean and concise way to open and close files automatically. When the block of code within the with statement is exited, either normally or due to an exception, the file is closed automatically. This is achieved through the use of context managers, which are designed to manage resources.\n",
    "\n",
    "+ advantages are : \n",
    "1) resourse management \n",
    "2) exception handling"
   ]
  },
  {
   "cell_type": "markdown",
   "id": "8fde7b0c-2e35-48fa-81d0-9037fb698f1d",
   "metadata": {},
   "source": [
    "# solution 6 \n",
    "+ the write method is used to write a single line at once (String)\n",
    "+ the writelines method can write the list of strings all at once in the file "
   ]
  },
  {
   "cell_type": "code",
   "execution_count": 57,
   "id": "4a423bd5-425b-493b-aca1-13c3d6eeec0f",
   "metadata": {},
   "outputs": [],
   "source": [
    "with open(\"example2.txt\" , \"w\")as f:\n",
    "    f.write(\"hello \\n\")\n",
    "    f.write(\"how are you\\n\")\n",
    "    \n",
    "with open(\"example3.txt\" , \"w\")as f2:\n",
    "    f2.writelines([\"hello\" , \"how are you buddy\"])"
   ]
  },
  {
   "cell_type": "code",
   "execution_count": 58,
   "id": "80c41308-3054-4e84-95b0-70227b00a20e",
   "metadata": {},
   "outputs": [
    {
     "name": "stdout",
     "output_type": "stream",
     "text": [
      "hello \n",
      "how are you\n",
      "\n"
     ]
    }
   ],
   "source": [
    "with open(\"example2.txt\" , \"r\") as f :\n",
    "    data = f.read()\n",
    "print(data)"
   ]
  },
  {
   "cell_type": "code",
   "execution_count": 59,
   "id": "923612b9-6a92-4ad0-89ae-40a1504e537c",
   "metadata": {},
   "outputs": [
    {
     "name": "stdout",
     "output_type": "stream",
     "text": [
      "hellohow are you buddy\n"
     ]
    }
   ],
   "source": [
    "with open(\"example3.txt\" ,\"r\") as f:\n",
    "    new_data=f.read()\n",
    "print(new_data)"
   ]
  },
  {
   "cell_type": "code",
   "execution_count": null,
   "id": "64ccabf6-a3f7-4566-935c-f6f7d0831748",
   "metadata": {},
   "outputs": [],
   "source": []
  }
 ],
 "metadata": {
  "kernelspec": {
   "display_name": "Python 3 (ipykernel)",
   "language": "python",
   "name": "python3"
  },
  "language_info": {
   "codemirror_mode": {
    "name": "ipython",
    "version": 3
   },
   "file_extension": ".py",
   "mimetype": "text/x-python",
   "name": "python",
   "nbconvert_exporter": "python",
   "pygments_lexer": "ipython3",
   "version": "3.10.8"
  }
 },
 "nbformat": 4,
 "nbformat_minor": 5
}
