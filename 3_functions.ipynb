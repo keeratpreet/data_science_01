{
 "cells": [
  {
   "cell_type": "markdown",
   "id": "1b1396e5-32f0-4fea-8d57-118c4f2371cd",
   "metadata": {},
   "source": [
    "\n",
    "# solution 1\n",
    "\n",
    "+ sort the given list based on the integer value using the lambda function\n",
    "\""
   ]
  },
  {
   "cell_type": "code",
   "execution_count": 11,
   "id": "bb6f2ddc-1b01-49f6-9133-bf3829db59a2",
   "metadata": {},
   "outputs": [],
   "source": [
    "players =  [('Sachin Tendulkar', 34357), ('Ricky Ponting', 27483), ('Jack Kallis', 25534), ('Virat Kohli', 24936)]"
   ]
  },
  {
   "cell_type": "markdown",
   "id": "3274a92b-f0fe-4b67-8485-98c16b489556",
   "metadata": {},
   "source": [
    "+ note that the lambda functions can only be used for a single expression \n",
    "+ therefore we need to write the sorting logic first "
   ]
  },
  {
   "cell_type": "code",
   "execution_count": 12,
   "id": "7f1fd526-24e1-4ec5-9023-97e99bcb72e3",
   "metadata": {},
   "outputs": [],
   "source": [
    "n=len(players)"
   ]
  },
  {
   "cell_type": "code",
   "execution_count": 13,
   "id": "fe0f56e8-e67b-4c39-a6c9-499254099a23",
   "metadata": {},
   "outputs": [],
   "source": [
    "key = lambda x : x[1] "
   ]
  },
  {
   "cell_type": "code",
   "execution_count": 14,
   "id": "8d3f23e1-960e-4a57-b8d0-47229bfe37a1",
   "metadata": {},
   "outputs": [],
   "source": [
    "for i in range(n):\n",
    "    for j in range(n-i-1):\n",
    "        if key(players[j])>key(players[j+1]):\n",
    "            players[j],players[j+1] = players[j+1] , players[j]"
   ]
  },
  {
   "cell_type": "code",
   "execution_count": 15,
   "id": "8669d753-d892-4425-8dd4-3acacb5c36b6",
   "metadata": {},
   "outputs": [
    {
     "name": "stdout",
     "output_type": "stream",
     "text": [
      "[('Virat Kohli', 24936), ('Jack Kallis', 25534), ('Ricky Ponting', 27483), ('Sachin Tendulkar', 34357)]\n"
     ]
    }
   ],
   "source": [
    "print(players)"
   ]
  },
  {
   "cell_type": "code",
   "execution_count": null,
   "id": "2d2df166-f353-44d1-84b8-f543b5162475",
   "metadata": {},
   "outputs": [],
   "source": []
  },
  {
   "cell_type": "markdown",
   "id": "c58fe5d9-d72a-4f6d-8145-ae15e39cfa4d",
   "metadata": {},
   "source": [
    "# solution 2 \n",
    "\n",
    "+ square of  numbers given in a list using the lambda and map functions "
   ]
  },
  {
   "cell_type": "code",
   "execution_count": 17,
   "id": "4d02e51d-5e05-4eb5-87e2-e5c341391b12",
   "metadata": {},
   "outputs": [],
   "source": [
    "l1=[1, 2, 3, 4, 5, 6, 7, 8, 9, 10]"
   ]
  },
  {
   "cell_type": "code",
   "execution_count": 18,
   "id": "75f7ac6c-3a74-4907-9f2e-7347a3494080",
   "metadata": {},
   "outputs": [
    {
     "data": {
      "text/plain": [
       "[1, 4, 9, 16, 25, 36, 49, 64, 81, 100]"
      ]
     },
     "execution_count": 18,
     "metadata": {},
     "output_type": "execute_result"
    }
   ],
   "source": [
    "list(map(lambda x : x**2 ,l))"
   ]
  },
  {
   "cell_type": "markdown",
   "id": "bba619cf-06bb-4453-880f-9b52c00d5852",
   "metadata": {},
   "source": [
    "# solution 3\n",
    "+ convert the list of the integers into a tuple of strings using map and lambda function\"\n",
    "\n"
   ]
  },
  {
   "cell_type": "code",
   "execution_count": 19,
   "id": "e32fd3b6-a747-497a-a507-9149b60fb5e9",
   "metadata": {},
   "outputs": [],
   "source": [
    "l2=[1, 2, 3, 4, 5, 6, 7, 8, 9, 10]"
   ]
  },
  {
   "cell_type": "code",
   "execution_count": 22,
   "id": "965f0b3a-ae00-4881-b2e6-86a1145f0f32",
   "metadata": {},
   "outputs": [
    {
     "data": {
      "text/plain": [
       "('1', '2', '3', '4', '5', '6', '7', '8', '9', '10')"
      ]
     },
     "execution_count": 22,
     "metadata": {},
     "output_type": "execute_result"
    }
   ],
   "source": [
    "tuple(map(lambda x : str(x) , l2))"
   ]
  },
  {
   "cell_type": "markdown",
   "id": "c1020879-1dc7-4ef6-9cb3-125d5d363a73",
   "metadata": {},
   "source": [
    "\n",
    "# solution 4\n",
    "+ reduce the list by computing the products"
   ]
  },
  {
   "cell_type": "code",
   "execution_count": 23,
   "id": "db8f4fc0-d482-4098-9816-632f58c6dca9",
   "metadata": {},
   "outputs": [],
   "source": [
    "l3=[]\n",
    "for i in range(1,26):\n",
    "    l3.append(i)\n",
    "    "
   ]
  },
  {
   "cell_type": "code",
   "execution_count": 24,
   "id": "7d09793e-e6bf-4775-b37a-4b90757f14b5",
   "metadata": {},
   "outputs": [
    {
     "data": {
      "text/plain": [
       "[1,\n",
       " 2,\n",
       " 3,\n",
       " 4,\n",
       " 5,\n",
       " 6,\n",
       " 7,\n",
       " 8,\n",
       " 9,\n",
       " 10,\n",
       " 11,\n",
       " 12,\n",
       " 13,\n",
       " 14,\n",
       " 15,\n",
       " 16,\n",
       " 17,\n",
       " 18,\n",
       " 19,\n",
       " 20,\n",
       " 21,\n",
       " 22,\n",
       " 23,\n",
       " 24,\n",
       " 25]"
      ]
     },
     "execution_count": 24,
     "metadata": {},
     "output_type": "execute_result"
    }
   ],
   "source": [
    "l3"
   ]
  },
  {
   "cell_type": "code",
   "execution_count": 28,
   "id": "4f92afe8-7b7f-4db6-9606-cba1b40b3526",
   "metadata": {},
   "outputs": [],
   "source": [
    "from functools import reduce "
   ]
  },
  {
   "cell_type": "code",
   "execution_count": 30,
   "id": "4683ab38-d3ab-4444-8644-a724667755ef",
   "metadata": {},
   "outputs": [
    {
     "data": {
      "text/plain": [
       "15511210043330985984000000"
      ]
     },
     "execution_count": 30,
     "metadata": {},
     "output_type": "execute_result"
    }
   ],
   "source": [
    "reduce(lambda x ,y : x*y , l3)"
   ]
  },
  {
   "cell_type": "markdown",
   "id": "a9a3b409-6c2c-4e6c-b786-7d774d2867de",
   "metadata": {},
   "source": [
    "\n",
    "\n",
    "# solution 5 \n",
    "+ filter the no.s that are div by 2 and 3"
   ]
  },
  {
   "cell_type": "code",
   "execution_count": 31,
   "id": "5830b77b-9fec-45b9-9c2d-254d6eef163a",
   "metadata": {},
   "outputs": [],
   "source": [
    "l4=[2, 3, 6, 9, 27, 60, 90, 120, 55, 46]"
   ]
  },
  {
   "cell_type": "markdown",
   "id": "5ce01d14-74bb-4363-81d8-6447ff42cf85",
   "metadata": {},
   "source": [
    "+ div by either 2 or 3"
   ]
  },
  {
   "cell_type": "code",
   "execution_count": 33,
   "id": "97362fbb-021f-48dd-953d-0d214818d7c2",
   "metadata": {},
   "outputs": [
    {
     "data": {
      "text/plain": [
       "[2, 3, 6, 9, 27, 60, 90, 120, 46]"
      ]
     },
     "execution_count": 33,
     "metadata": {},
     "output_type": "execute_result"
    }
   ],
   "source": [
    "list(filter(lambda x : x%2==0 or x%3==0 , l4))"
   ]
  },
  {
   "cell_type": "markdown",
   "id": "5dc057b2-9fcb-457a-bef5-ec7e66a64e52",
   "metadata": {},
   "source": [
    "+ div by both 2 and 3 -> div by 6"
   ]
  },
  {
   "cell_type": "code",
   "execution_count": 34,
   "id": "af37cfaa-19bc-484c-b9df-2e64e83ce4c5",
   "metadata": {},
   "outputs": [
    {
     "data": {
      "text/plain": [
       "[6, 60, 90, 120]"
      ]
     },
     "execution_count": 34,
     "metadata": {},
     "output_type": "execute_result"
    }
   ],
   "source": [
    "list(filter(lambda x: x%6==0 ,l4))"
   ]
  },
  {
   "cell_type": "markdown",
   "id": "82d8d3e2-6f89-47ca-81f2-255ef23b3a03",
   "metadata": {},
   "source": [
    "# solution 6 \n",
    "+ use the lambda and filter function to get the palindromes from the given list"
   ]
  },
  {
   "cell_type": "code",
   "execution_count": 60,
   "id": "88918874-39d9-4fad-86b2-d492a02efee2",
   "metadata": {},
   "outputs": [],
   "source": [
    "l5=['python', 'php', 'aba', 'radar', 'level']"
   ]
  },
  {
   "cell_type": "code",
   "execution_count": 66,
   "id": "891dd728-96fe-49d3-bff7-7a2aa883fca7",
   "metadata": {},
   "outputs": [],
   "source": [
    "def ispalindrome(s):\n",
    "    n=len(s) \n",
    "    i=0\n",
    "    j=n-1\n",
    "    while(i<j):\n",
    "        if s[i]!=s[j] : return False\n",
    "        i=i+1\n",
    "        j=j-1\n",
    "    return True"
   ]
  },
  {
   "cell_type": "code",
   "execution_count": 67,
   "id": "70e700d3-ba69-4397-9faf-096413899d51",
   "metadata": {},
   "outputs": [
    {
     "data": {
      "text/plain": [
       "False"
      ]
     },
     "execution_count": 67,
     "metadata": {},
     "output_type": "execute_result"
    }
   ],
   "source": [
    "ispalindrome(\"hello\")"
   ]
  },
  {
   "cell_type": "code",
   "execution_count": 69,
   "id": "1c38fd33-c1bf-4ccd-b967-a57c18837d62",
   "metadata": {},
   "outputs": [
    {
     "data": {
      "text/plain": [
       "True"
      ]
     },
     "execution_count": 69,
     "metadata": {},
     "output_type": "execute_result"
    }
   ],
   "source": [
    "ispalindrome(\"MOM\")"
   ]
  },
  {
   "cell_type": "code",
   "execution_count": null,
   "id": "4a86764a-64fe-45c0-927a-4527cce7ec3a",
   "metadata": {},
   "outputs": [],
   "source": [
    "list(filter(lambda x : "
   ]
  },
  {
   "cell_type": "code",
   "execution_count": null,
   "id": "0198c796-fc39-4f6d-aff8-686d8e4cc059",
   "metadata": {},
   "outputs": [],
   "source": []
  },
  {
   "cell_type": "code",
   "execution_count": null,
   "id": "8094d012-29a8-4174-9484-1b9410563e81",
   "metadata": {},
   "outputs": [],
   "source": []
  },
  {
   "cell_type": "code",
   "execution_count": null,
   "id": "caf30574-e8aa-47b1-b0d2-42a13568d746",
   "metadata": {},
   "outputs": [],
   "source": []
  },
  {
   "cell_type": "code",
   "execution_count": null,
   "id": "9058967a-6a37-4816-86f4-58594468310b",
   "metadata": {},
   "outputs": [],
   "source": []
  },
  {
   "cell_type": "code",
   "execution_count": null,
   "id": "f6e739d8-035e-4fd7-a21c-5e26aaf4ebe3",
   "metadata": {},
   "outputs": [],
   "source": []
  },
  {
   "cell_type": "code",
   "execution_count": null,
   "id": "6a7d74ec-9417-408b-a860-c42fbc23a4f9",
   "metadata": {},
   "outputs": [],
   "source": []
  },
  {
   "cell_type": "code",
   "execution_count": null,
   "id": "1c676d62-0efe-41b3-a1db-bc49a1ba4f99",
   "metadata": {},
   "outputs": [],
   "source": []
  },
  {
   "cell_type": "code",
   "execution_count": null,
   "id": "aa03edab-d8ce-4a9c-ad69-be349b6544c3",
   "metadata": {},
   "outputs": [],
   "source": []
  }
 ],
 "metadata": {
  "kernelspec": {
   "display_name": "Python 3 (ipykernel)",
   "language": "python",
   "name": "python3"
  },
  "language_info": {
   "codemirror_mode": {
    "name": "ipython",
    "version": 3
   },
   "file_extension": ".py",
   "mimetype": "text/x-python",
   "name": "python",
   "nbconvert_exporter": "python",
   "pygments_lexer": "ipython3",
   "version": "3.10.8"
  }
 },
 "nbformat": 4,
 "nbformat_minor": 5
}
