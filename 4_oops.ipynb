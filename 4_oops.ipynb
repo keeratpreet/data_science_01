{
 "cells": [
  {
   "cell_type": "markdown",
   "id": "2ddcf1c7-eb6a-483c-b1d0-7688bf80663e",
   "metadata": {},
   "source": [
    "# solution 1\n",
    "- class and objects : class is simply a blue print for creating objects. it can be used to manipulate , encapsulate the data \n",
    "- objects are the instances of the class , when the class is created no memory is allocated until an oobject is defined"
   ]
  },
  {
   "cell_type": "code",
   "execution_count": 1,
   "id": "592686a7-4703-441c-9757-1179b867d707",
   "metadata": {},
   "outputs": [],
   "source": [
    "class test():\n",
    "    def tst_fun(self):\n",
    "        return \"this is a class test\""
   ]
  },
  {
   "cell_type": "code",
   "execution_count": 2,
   "id": "30fe91c9-8f2a-47f8-ac5f-c270d6c47298",
   "metadata": {},
   "outputs": [],
   "source": [
    "ram = test()"
   ]
  },
  {
   "cell_type": "code",
   "execution_count": 3,
   "id": "0ba9bfe3-8617-4861-9914-ad9ae6c5942c",
   "metadata": {},
   "outputs": [
    {
     "data": {
      "text/plain": [
       "'this is a class test'"
      ]
     },
     "execution_count": 3,
     "metadata": {},
     "output_type": "execute_result"
    }
   ],
   "source": [
    "ram.tst_fun()"
   ]
  },
  {
   "cell_type": "markdown",
   "id": "d8876359-f8e7-460e-83f0-490972be5643",
   "metadata": {},
   "source": [
    "- here test is a class and ram is its object"
   ]
  },
  {
   "cell_type": "markdown",
   "id": "9949e778-1ad9-4c79-83ef-1d56af694765",
   "metadata": {},
   "source": [
    "# solution 2\n",
    "\n",
    "the four pillars of oops are\n",
    "1) polymorphism \n",
    "2) inheritance\n",
    "3) encapsulation\n",
    "4) abstraction"
   ]
  },
  {
   "cell_type": "markdown",
   "id": "5445fed5-02a8-4aa9-a81e-577e90f50b69",
   "metadata": {},
   "source": [
    "# solution 3\n",
    "- the __init__ function is used as a constructor to the class \n",
    "- by using the __init__ function we can assign the values which we have recieved with the class while it was called"
   ]
  },
  {
   "cell_type": "code",
   "execution_count": 17,
   "id": "bbc93e43-bf0a-4f27-b882-17772441e151",
   "metadata": {},
   "outputs": [
    {
     "ename": "NameError",
     "evalue": "name 'n' is not defined",
     "output_type": "error",
     "traceback": [
      "\u001b[0;31m---------------------------------------------------------------------------\u001b[0m",
      "\u001b[0;31mNameError\u001b[0m                                 Traceback (most recent call last)",
      "Cell \u001b[0;32mIn[17], line 1\u001b[0m\n\u001b[0;32m----> 1\u001b[0m \u001b[38;5;28;01mclass\u001b[39;00m \u001b[38;5;21;01mclass2\u001b[39;00m(\u001b[43mn\u001b[49m):\n\u001b[1;32m      2\u001b[0m     \u001b[38;5;28;01mdef\u001b[39;00m \u001b[38;5;21mprintn\u001b[39m(\u001b[38;5;28mself\u001b[39m):\n\u001b[1;32m      3\u001b[0m         \u001b[38;5;28;01mreturn\u001b[39;00m n \n",
      "\u001b[0;31mNameError\u001b[0m: name 'n' is not defined"
     ]
    }
   ],
   "source": [
    "class class2(n):\n",
    "    def printn(self):\n",
    "        return n "
   ]
  },
  {
   "cell_type": "markdown",
   "id": "2defd075-4458-42e0-bec3-46a6eab8a33a",
   "metadata": {},
   "source": [
    "- this is not possible , so we will have to use the constructor"
   ]
  },
  {
   "cell_type": "code",
   "execution_count": 9,
   "id": "ffbb7cb4-c7f5-4d0e-948e-bae17954e4a0",
   "metadata": {},
   "outputs": [],
   "source": [
    "class class2:\n",
    "    def __init__(self,n):\n",
    "        self.n = n \n",
    "    \n",
    "    def returnn(self):\n",
    "        return self.n"
   ]
  },
  {
   "cell_type": "code",
   "execution_count": 15,
   "id": "794bb29f-f9e4-4aa5-bc4d-391e31105272",
   "metadata": {},
   "outputs": [],
   "source": [
    "obj = class2(15)"
   ]
  },
  {
   "cell_type": "code",
   "execution_count": 16,
   "id": "2033643b-7fb5-4c83-8024-b070c6a23437",
   "metadata": {},
   "outputs": [
    {
     "data": {
      "text/plain": [
       "15"
      ]
     },
     "execution_count": 16,
     "metadata": {},
     "output_type": "execute_result"
    }
   ],
   "source": [
    "obj.returnn()"
   ]
  },
  {
   "cell_type": "markdown",
   "id": "03ff8ee2-cf2a-4809-bdde-e2ca44d94c93",
   "metadata": {},
   "source": [
    "# solution 4"
   ]
  },
  {
   "cell_type": "markdown",
   "id": "3692dfef-2aad-45c3-906d-fe29db11552f",
   "metadata": {},
   "source": [
    "+ the self is used to represent the instance of the class \n",
    "+ it is used to access the data(variables and methods) of the class"
   ]
  },
  {
   "cell_type": "markdown",
   "id": "336e1faa-88ae-461b-9715-0cee06e14476",
   "metadata": {},
   "source": [
    "# solution 5"
   ]
  },
  {
   "cell_type": "markdown",
   "id": "7e1c9441-2446-4d6f-b16e-c00381ac6c66",
   "metadata": {},
   "source": [
    "+ inheritance is the phenomenon in which a derived class inherits the properties and methods from the parent class\n",
    "+ inheritance is basically of 5 types \n",
    "1) single inheritance\n",
    "2) multiple inheritance \n",
    "3) multilevel inheritance\n",
    "4) hierarachical inheritance \n",
    "5) hybrid inheritance "
   ]
  },
  {
   "cell_type": "markdown",
   "id": "0c845d69-b9cf-4b48-b512-c7651d367eea",
   "metadata": {},
   "source": [
    "+ single  inheritance "
   ]
  },
  {
   "cell_type": "code",
   "execution_count": 18,
   "id": "58829666-6313-4266-b109-226c14d307c8",
   "metadata": {},
   "outputs": [],
   "source": [
    "class c1:\n",
    "    def test(self):\n",
    "        return \"this is c1\""
   ]
  },
  {
   "cell_type": "code",
   "execution_count": 19,
   "id": "3000d98b-88ff-4568-89b6-03d0eed8d977",
   "metadata": {},
   "outputs": [],
   "source": [
    "class c2(c1):\n",
    "    pass"
   ]
  },
  {
   "cell_type": "code",
   "execution_count": 22,
   "id": "c5fb8fd4-984a-4244-a071-a700015b5a0a",
   "metadata": {},
   "outputs": [],
   "source": [
    "obj1 = c2()"
   ]
  },
  {
   "cell_type": "code",
   "execution_count": 23,
   "id": "4980d823-3374-45c6-9a7f-2b58b88ffe2e",
   "metadata": {},
   "outputs": [
    {
     "data": {
      "text/plain": [
       "'this is c1'"
      ]
     },
     "execution_count": 23,
     "metadata": {},
     "output_type": "execute_result"
    }
   ],
   "source": [
    "obj1.test()"
   ]
  },
  {
   "cell_type": "markdown",
   "id": "283c150b-46c5-4065-9414-9c1e7bfcfd84",
   "metadata": {},
   "source": [
    "+ multiple  inheritance "
   ]
  },
  {
   "cell_type": "code",
   "execution_count": 28,
   "id": "0a3a46d5-2e8b-4f12-8fe0-8aabe3f47694",
   "metadata": {},
   "outputs": [],
   "source": [
    "class c1:\n",
    "    def test1(self):\n",
    "        return \"this is c1\""
   ]
  },
  {
   "cell_type": "code",
   "execution_count": 29,
   "id": "58766e18-c945-435e-a078-be8b12902c03",
   "metadata": {},
   "outputs": [],
   "source": [
    "class c2:\n",
    "    def test2(self):\n",
    "        return \"this is c2\""
   ]
  },
  {
   "cell_type": "code",
   "execution_count": 30,
   "id": "ec928c91-d29f-40e9-88f2-73396a3a2ffc",
   "metadata": {},
   "outputs": [],
   "source": [
    "class c3(c1,c2):\n",
    "    pass"
   ]
  },
  {
   "cell_type": "code",
   "execution_count": 31,
   "id": "fadc3f35-9167-447b-9e8f-e83a09913d1c",
   "metadata": {},
   "outputs": [],
   "source": [
    "obj = c3()"
   ]
  },
  {
   "cell_type": "code",
   "execution_count": 32,
   "id": "697681ba-af5f-4e74-90d0-83cf06251066",
   "metadata": {},
   "outputs": [
    {
     "data": {
      "text/plain": [
       "'this is c1'"
      ]
     },
     "execution_count": 32,
     "metadata": {},
     "output_type": "execute_result"
    }
   ],
   "source": [
    "obj.test1()"
   ]
  },
  {
   "cell_type": "code",
   "execution_count": 33,
   "id": "392b3be1-7421-4544-ab6f-a9f6049a4501",
   "metadata": {},
   "outputs": [
    {
     "data": {
      "text/plain": [
       "'this is c2'"
      ]
     },
     "execution_count": 33,
     "metadata": {},
     "output_type": "execute_result"
    }
   ],
   "source": [
    "obj.test2()"
   ]
  },
  {
   "cell_type": "markdown",
   "id": "a057970a-a0b5-4d52-bcb3-7e400bb2ca0e",
   "metadata": {},
   "source": [
    "+ multilevel inheritance "
   ]
  },
  {
   "cell_type": "code",
   "execution_count": 34,
   "id": "ecb978fa-c13d-4260-98ad-cb211e02bb00",
   "metadata": {},
   "outputs": [],
   "source": [
    "class grandparent:\n",
    "    def name_gp(self):\n",
    "        return \"i am the grand parent class\"\n",
    "    \n",
    "class parent(grandparent):\n",
    "    def name_p(self):\n",
    "        return \"i am the parent class\"\n",
    "\n",
    "class child(parent):\n",
    "    def name_c(self):\n",
    "        return \"this is the child class\""
   ]
  },
  {
   "cell_type": "code",
   "execution_count": 35,
   "id": "b54c3951-0a54-4b66-a0ed-5a585eefcb4a",
   "metadata": {},
   "outputs": [],
   "source": [
    "obj = child()"
   ]
  },
  {
   "cell_type": "code",
   "execution_count": 36,
   "id": "be2f3f8e-ec19-4e74-bd01-ef9b2c8f921c",
   "metadata": {},
   "outputs": [
    {
     "data": {
      "text/plain": [
       "'i am the grand parent class'"
      ]
     },
     "execution_count": 36,
     "metadata": {},
     "output_type": "execute_result"
    }
   ],
   "source": [
    "obj.name_gp()"
   ]
  },
  {
   "cell_type": "code",
   "execution_count": 37,
   "id": "7581d9bf-4ad7-4c5c-8132-ffc2fa737854",
   "metadata": {},
   "outputs": [
    {
     "data": {
      "text/plain": [
       "'i am the parent class'"
      ]
     },
     "execution_count": 37,
     "metadata": {},
     "output_type": "execute_result"
    }
   ],
   "source": [
    "obj.name_p()"
   ]
  },
  {
   "cell_type": "code",
   "execution_count": 38,
   "id": "8250e231-a8d4-4d7f-8574-7b39e662258a",
   "metadata": {},
   "outputs": [
    {
     "data": {
      "text/plain": [
       "'this is the child class'"
      ]
     },
     "execution_count": 38,
     "metadata": {},
     "output_type": "execute_result"
    }
   ],
   "source": [
    "obj.name_c()"
   ]
  },
  {
   "cell_type": "markdown",
   "id": "0144de26-2a62-4844-a641-6e86002435d7",
   "metadata": {},
   "source": [
    "+ hierarchical inheritance \n",
    "- multiple classes inherit from a single class"
   ]
  },
  {
   "cell_type": "code",
   "execution_count": 39,
   "id": "e618164e-1fde-459b-83d5-f5e6023c810b",
   "metadata": {},
   "outputs": [],
   "source": [
    "class c1:\n",
    "    def f1(self):\n",
    "        return \"this is c1\"\n",
    "\n",
    "class c2(c1):\n",
    "    def f2(self):\n",
    "        return \"this is c2\"\n",
    "\n",
    "class c3(c1):\n",
    "    def f3(self):\n",
    "        return \"this is c3\""
   ]
  },
  {
   "cell_type": "markdown",
   "id": "0c44cba1-0af4-427d-9830-43243503ea98",
   "metadata": {},
   "source": [
    "+ hierarchical order is  \n",
    "-                  c1\n",
    "-                /    \\\n",
    "-               c2    c3"
   ]
  },
  {
   "cell_type": "code",
   "execution_count": 40,
   "id": "2866ebb4-01ba-4cb7-8fe3-323a318b9151",
   "metadata": {},
   "outputs": [],
   "source": [
    "obj = c3()"
   ]
  },
  {
   "cell_type": "code",
   "execution_count": 41,
   "id": "41146fa5-5502-47dc-9339-592f6acc83a6",
   "metadata": {},
   "outputs": [
    {
     "data": {
      "text/plain": [
       "'this is c1'"
      ]
     },
     "execution_count": 41,
     "metadata": {},
     "output_type": "execute_result"
    }
   ],
   "source": [
    "obj.f1()"
   ]
  },
  {
   "cell_type": "code",
   "execution_count": 42,
   "id": "bc76fef3-b4d2-4ac1-ac46-fd338707007c",
   "metadata": {},
   "outputs": [],
   "source": [
    "obj2=c2()"
   ]
  },
  {
   "cell_type": "code",
   "execution_count": 43,
   "id": "c7c13685-d1ba-4a1b-af71-a7c0d31bd17f",
   "metadata": {},
   "outputs": [
    {
     "data": {
      "text/plain": [
       "'this is c1'"
      ]
     },
     "execution_count": 43,
     "metadata": {},
     "output_type": "execute_result"
    }
   ],
   "source": [
    "obj.f1()"
   ]
  },
  {
   "cell_type": "markdown",
   "id": "f2e48fac-6565-4c00-9d51-03a528b9dc9c",
   "metadata": {},
   "source": [
    "+ hybrid inheritance\n",
    "+ A combination of two or more types of inheritance. This can include any combination of the above types."
   ]
  },
  {
   "cell_type": "code",
   "execution_count": 44,
   "id": "f531cd42-08d4-4aae-9f4f-43ed0f6c7cae",
   "metadata": {},
   "outputs": [
    {
     "name": "stdout",
     "output_type": "stream",
     "text": [
      "This is a grandparent method.\n",
      "This is a parent1 method.\n",
      "This is a parent2 method.\n",
      "This is a child method.\n"
     ]
    }
   ],
   "source": [
    "class Grandparent:\n",
    "    def grandparent_method(self):\n",
    "        print(\"This is a grandparent method.\")\n",
    "\n",
    "class Parent1(Grandparent):\n",
    "    def parent1_method(self):\n",
    "        print(\"This is a parent1 method.\")\n",
    "\n",
    "class Parent2:\n",
    "    def parent2_method(self):\n",
    "        print(\"This is a parent2 method.\")\n",
    "\n",
    "class Child(Parent1, Parent2):\n",
    "    def child_method(self):\n",
    "        print(\"This is a child method.\")\n",
    "\n",
    "child = Child()\n",
    "child.grandparent_method()\n",
    "child.parent1_method()\n",
    "child.parent2_method()\n",
    "child.child_method()\n"
   ]
  },
  {
   "cell_type": "code",
   "execution_count": null,
   "id": "0de3f579-f3a8-4279-a5ad-5cf2bec382aa",
   "metadata": {},
   "outputs": [],
   "source": []
  }
 ],
 "metadata": {
  "kernelspec": {
   "display_name": "Python 3 (ipykernel)",
   "language": "python",
   "name": "python3"
  },
  "language_info": {
   "codemirror_mode": {
    "name": "ipython",
    "version": 3
   },
   "file_extension": ".py",
   "mimetype": "text/x-python",
   "name": "python",
   "nbconvert_exporter": "python",
   "pygments_lexer": "ipython3",
   "version": "3.10.8"
  }
 },
 "nbformat": 4,
 "nbformat_minor": 5
}
