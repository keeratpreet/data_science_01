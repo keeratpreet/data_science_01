{
 "cells": [
  {
   "cell_type": "markdown",
   "id": "3af272a1-d45f-4ee3-a3a3-2eccc4f2b5a4",
   "metadata": {},
   "source": [
    "+ solution 1\n",
    "pyhton programming is developed by Guido van Rossum "
   ]
  },
  {
   "cell_type": "markdown",
   "id": "4b5aa0f0-a315-4f36-9752-cc5e0b1eeab8",
   "metadata": {},
   "source": [
    "+ solution 2 \n",
    "-> Python is a multi-paradigm programming language. Object-oriented programming and structured programming are fully supported, and many of their features support functional programming and aspect-oriented programming (including metaprogramming and metaobjects)."
   ]
  },
  {
   "cell_type": "markdown",
   "id": "7be9e2d4-9fdd-4d8d-90e0-c05f75739267",
   "metadata": {},
   "source": [
    "+ solution 3 -> yes python is case sensitive "
   ]
  },
  {
   "cell_type": "markdown",
   "id": "d756c876-017a-4229-9535-a3008306220b",
   "metadata": {},
   "source": [
    "+ solution 4 -> the extension for python file is .py  whereas we use .ipynb for python notebooks"
   ]
  },
  {
   "cell_type": "markdown",
   "id": "358ccb72-7f5e-4a93-9488-6ce52df00827",
   "metadata": {},
   "source": [
    "+ solution 5 -> Python is an interpreted language. This means that Python code is not directly compiled into machine code. Instead, it is executed by an interpreter, which reads and executes the code line by line. However, the actual process involves several steps that mix interpretation and compilation"
   ]
  },
  {
   "cell_type": "markdown",
   "id": "6ba5733d-34bb-45b3-8abc-4162d33746ab",
   "metadata": {},
   "source": [
    "+ solution 6 -> a few block of codes that are used are \n",
    "1) functions \n",
    "2) classes\n",
    "3) loops  etc."
   ]
  },
  {
   "cell_type": "markdown",
   "id": "a80561c2-2989-4de0-b8b9-b92712310d23",
   "metadata": {},
   "source": [
    "+ solution 7  , we use # to comment a single line "
   ]
  },
  {
   "cell_type": "markdown",
   "id": "ac0f9931-ca0a-4675-89f5-1b2ed692f893",
   "metadata": {},
   "source": [
    "+ solution 8 \n",
    "+ In Python, you can determine the version of the Python interpreter you are using by accessing the version attribute from the sys module or by using the python --version"
   ]
  },
  {
   "cell_type": "markdown",
   "id": "1de7cab3-d356-41d2-8cdb-330c94be9b24",
   "metadata": {},
   "source": [
    "+ solution 9 \n",
    "+ Python supports the creation of anonymous functions at runtime using the lambda construct. These anonymous functions are often referred to as \"lambda functions.\""
   ]
  },
  {
   "cell_type": "markdown",
   "id": "21c9a706-0d6a-4adb-9e0d-442bd0765366",
   "metadata": {},
   "source": [
    "+ solution 10 \n",
    "+ Pip is an acronym for \"Preferred Installer Program\" or \"PIP Installs Packages\". It's a command-line tool that's the standard package manager for Python,"
   ]
  },
  {
   "cell_type": "markdown",
   "id": "5f3adf2d-f53c-4a55-b8a9-fc9a2df5b865",
   "metadata": {},
   "source": [
    "+ solution 11 \n",
    "+ built in function in python includes range , len , append , is , in    etc."
   ]
  },
  {
   "cell_type": "markdown",
   "id": "0bf8da57-3ede-4403-8374-b09b682f8979",
   "metadata": {},
   "source": [
    "+  solution 12 \n",
    "+ max possible length of the identifier in python is  79 characters"
   ]
  },
  {
   "cell_type": "markdown",
   "id": "8ca41d7a-8aca-4119-a371-2b531a20ee9b",
   "metadata": {},
   "source": [
    "+ solution 13\n",
    "+ python is easy to understand and implement \n",
    "+ python has a support of thousands of library \n",
    "+ a lot of industry level projects are done with python |"
   ]
  },
  {
   "cell_type": "markdown",
   "id": "91736791-2f28-4c57-80b0-4f408554668b",
   "metadata": {},
   "source": [
    "+ solution 14\n",
    "+ Python uses a private heap space that stores all the objects. The Python memory manager regulates various aspects of this heap, such as sharing, caching, segmentation, and allocation. The user has no control over the heap; only the Python interpreter has access."
   ]
  },
  {
   "cell_type": "code",
   "execution_count": null,
   "id": "303407b5-1b67-4368-96aa-19b76a6cbdbb",
   "metadata": {},
   "outputs": [],
   "source": [
    "+ solution 15 \n",
    "1) Locate Python's installation\n",
    "2) Access Environment Variables: Right click This PC, select Properties, then Advanced system settings, and click Environment Variables.\n",
    "3) Edit the Path variable: Under System variables, select Path and click Edit.\n",
    "4) Add Python's path: Click New, paste the installation path from step 1, and click OK.\n",
    "Restart the system \n"
   ]
  }
 ],
 "metadata": {
  "kernelspec": {
   "display_name": "Python 3 (ipykernel)",
   "language": "python",
   "name": "python3"
  },
  "language_info": {
   "codemirror_mode": {
    "name": "ipython",
    "version": 3
   },
   "file_extension": ".py",
   "mimetype": "text/x-python",
   "name": "python",
   "nbconvert_exporter": "python",
   "pygments_lexer": "ipython3",
   "version": "3.10.8"
  }
 },
 "nbformat": 4,
 "nbformat_minor": 5
}
