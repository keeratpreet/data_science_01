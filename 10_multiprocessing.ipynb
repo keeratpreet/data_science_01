{
 "cells": [
  {
   "cell_type": "markdown",
   "id": "6335cd7f-b37a-452d-8134-2cf903d262f4",
   "metadata": {},
   "source": [
    "# solution 1 \n",
    "+ Multiprocessing is the process in which a single thread of code isbreaken into componenets and is run on diff processors \n",
    "+ it is usefull because it improves the overall performance of the program "
   ]
  },
  {
   "cell_type": "markdown",
   "id": "eee002d7-2251-4488-a9e0-e7acc25df642",
   "metadata": {},
   "source": [
    "# solution 2 \n",
    "+ Multiprocessing V/S Multithreading\n",
    "+ in multiprocessing a single thread is breaken into components and run on diff processors \n",
    "+ in Multi-Threading multiple threads run on a single processor in a timely manner\n",
    "\n",
    "+ MultiProcessing is true parallelism whereas Multi_threading isnot \n",
    "\n",
    "# solution 3\n"
   ]
  },
  {
   "cell_type": "code",
   "execution_count": 1,
   "id": "5d144175-648f-4079-a131-9d7a146e4b80",
   "metadata": {},
   "outputs": [
    {
     "name": "stdout",
     "output_type": "stream",
     "text": [
      "this is my main prog\n",
      "this is my multi-processing code \n"
     ]
    }
   ],
   "source": [
    "import multiprocessing\n",
    "\n",
    "def test():\n",
    "    print(\"this is my multi-processing code \")\n",
    "    \n",
    "if __name__==\"__main__\":\n",
    "    m = multiprocessing.Process(target=test)\n",
    "    print(\"this is my main prog\")\n",
    "    m.start()\n",
    "    m.join()"
   ]
  },
  {
   "cell_type": "markdown",
   "id": "4332faff-e47e-4cd2-b75c-fbe28c088b56",
   "metadata": {},
   "source": [
    "# solution 4 \n",
    "+ Multi-Processing pool is a method through which the parallelismcan be achieved for multiple inputs \n",
    "+  This is particularly useful for tasks that can be broken down into smaller, independent chunks and executed concurrently.\n",
    "+ it is used to parallelize the work and take the full advantage of the multiple cores \n",
    "\n",
    "# solution 5 "
   ]
  },
  {
   "cell_type": "code",
   "execution_count": 5,
   "id": "79695321-aef8-4bdd-9e21-591a65f45574",
   "metadata": {},
   "outputs": [
    {
     "name": "stdout",
     "output_type": "stream",
     "text": [
      "[4, 9, 16, 25]\n"
     ]
    }
   ],
   "source": [
    "import multiprocessing\n",
    "def sq(n):\n",
    "    return n**2 \n",
    "\n",
    "if __name__==\"__main__\":\n",
    "    with multiprocessing.Pool(processes=3) as pool :\n",
    "        out = pool.map(sq,[2,3,4,5])\n",
    "        print(out)"
   ]
  },
  {
   "cell_type": "markdown",
   "id": "794f1324-1948-40a3-9186-dc54d92406f5",
   "metadata": {},
   "source": [
    "# solution 6"
   ]
  },
  {
   "cell_type": "code",
   "execution_count": 20,
   "id": "e34b27ee-61bd-4e3a-ac13-d1d13ba9396e",
   "metadata": {},
   "outputs": [
    {
     "name": "stdout",
     "output_type": "stream",
     "text": [
      "Process 3: 3 \n",
      "Process 1: 1 \n",
      "Process 4: 4 \n",
      "Process 2: 2 \n",
      "\n",
      "\n",
      "\n",
      "\n"
     ]
    }
   ],
   "source": [
    "import multiprocessing\n",
    "\n",
    "def print_number(number):\n",
    "    print(f\"Process {number}: {number} \\n\")\n",
    "\n",
    "\n",
    "if __name__ == \"__main__\":\n",
    "    with multiprocessing.Pool(processes=4) as pool:\n",
    "        out = pool.map(print_number, [1, 2, 3, 4])\n",
    "        \n"
   ]
  },
  {
   "cell_type": "code",
   "execution_count": null,
   "id": "500c6077-1ebe-495f-87e0-f42082d9e58c",
   "metadata": {},
   "outputs": [],
   "source": []
  }
 ],
 "metadata": {
  "kernelspec": {
   "display_name": "Python 3 (ipykernel)",
   "language": "python",
   "name": "python3"
  },
  "language_info": {
   "codemirror_mode": {
    "name": "ipython",
    "version": 3
   },
   "file_extension": ".py",
   "mimetype": "text/x-python",
   "name": "python",
   "nbconvert_exporter": "python",
   "pygments_lexer": "ipython3",
   "version": "3.10.8"
  }
 },
 "nbformat": 4,
 "nbformat_minor": 5
}
