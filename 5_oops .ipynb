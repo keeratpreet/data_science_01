{
 "cells": [
  {
   "cell_type": "markdown",
   "id": "cc6c86ee-0c9a-4154-ae99-4b92fa2d08c0",
   "metadata": {},
   "source": [
    "# solution 1"
   ]
  },
  {
   "cell_type": "code",
   "execution_count": 18,
   "id": "4a16a72f-2523-46d3-ad14-57ac1f8e9a8c",
   "metadata": {},
   "outputs": [],
   "source": [
    "class vehicle:\n",
    "    def __init__(self,name,max_speed,average):\n",
    "        self.name=name\n",
    "        self.max_speed=max_speed\n",
    "        self.average=average\n",
    "    \n",
    "    def display_attributes(self):\n",
    "        print(\"name :\",self.name)\n",
    "        print(\"max_Speed :\",self.max_speed)\n",
    "        print(\"average: \",self.average)\n",
    "\n",
    "        \n"
   ]
  },
  {
   "cell_type": "code",
   "execution_count": 19,
   "id": "b648a276-c09f-4722-90f1-ef28633c4127",
   "metadata": {},
   "outputs": [],
   "source": [
    "audi = vehicle(\"audi q7\" , 280 , 12.5)"
   ]
  },
  {
   "cell_type": "code",
   "execution_count": 20,
   "id": "a430cf89-484c-40d8-adbc-18b18aafb3d7",
   "metadata": {},
   "outputs": [
    {
     "name": "stdout",
     "output_type": "stream",
     "text": [
      "name : audi q7\n",
      "max_Speed : 280\n",
      "average:  12.5\n"
     ]
    }
   ],
   "source": [
    "audi.display_attributes()"
   ]
  },
  {
   "cell_type": "markdown",
   "id": "b996f5ec-44df-410c-9d23-35c36ede9c18",
   "metadata": {},
   "source": [
    "# solution 2"
   ]
  },
  {
   "cell_type": "code",
   "execution_count": 27,
   "id": "dd4a174b-9b3b-41b1-bd04-4660cf5b12ae",
   "metadata": {},
   "outputs": [],
   "source": [
    "class car(vehicle):\n",
    "    def __init__(self,name,max_speed,average,capacity):\n",
    "        super().__init__(name,max_speed,average)\n",
    "        self.seating_capacity = capacity\n",
    "        \n",
    "    def attributes(self):\n",
    "        super().display_attributes()\n",
    "        print(\"seating-capacity :\",self.seating_capacity)\n",
    "        \n",
    "    "
   ]
  },
  {
   "cell_type": "code",
   "execution_count": 28,
   "id": "55273811-85db-47a9-95e3-f6c20a1ad7c1",
   "metadata": {},
   "outputs": [],
   "source": [
    "toyota =car(\"innova\" ,220,15,6)"
   ]
  },
  {
   "cell_type": "code",
   "execution_count": 29,
   "id": "10c72d3a-949d-40dc-b245-34cc03c8aaee",
   "metadata": {},
   "outputs": [
    {
     "name": "stdout",
     "output_type": "stream",
     "text": [
      "name : innova\n",
      "max_Speed : 220\n",
      "average:  15\n",
      "seating-capacity : 6\n"
     ]
    }
   ],
   "source": [
    "toyota.attributes()"
   ]
  },
  {
   "cell_type": "markdown",
   "id": "83b9a1e5-4263-4e87-8ae4-657b7e4626fb",
   "metadata": {},
   "source": [
    "# solution 3"
   ]
  },
  {
   "cell_type": "code",
   "execution_count": 30,
   "id": "9ec99ff0-b38c-4e07-8dd4-0e5ddd69e5d8",
   "metadata": {},
   "outputs": [],
   "source": [
    "class c1:\n",
    "    def test1(self):\n",
    "        print(\"this is c1\")\n",
    "\n",
    "class c2:\n",
    "    def test2(self):\n",
    "        print(\"this is c2\")"
   ]
  },
  {
   "cell_type": "code",
   "execution_count": 32,
   "id": "b74f4e0c-d5c6-465c-b6a9-11c66039fa42",
   "metadata": {},
   "outputs": [],
   "source": [
    "class c3(c1,c2):\n",
    "    def test3(self):\n",
    "        print(\"this is c3\")"
   ]
  },
  {
   "cell_type": "code",
   "execution_count": 33,
   "id": "c8467975-a991-4c5d-ae16-ad74c6774565",
   "metadata": {},
   "outputs": [],
   "source": [
    "obj=c3()"
   ]
  },
  {
   "cell_type": "code",
   "execution_count": 34,
   "id": "038d8663-0a19-4012-a051-80d94bea1cb5",
   "metadata": {},
   "outputs": [
    {
     "name": "stdout",
     "output_type": "stream",
     "text": [
      "this is c1\n"
     ]
    }
   ],
   "source": [
    "obj.test1()"
   ]
  },
  {
   "cell_type": "markdown",
   "id": "c9076057-7c92-4cb2-8643-7a7ebdeddd6a",
   "metadata": {},
   "source": [
    "# solution 4\n",
    "+ in python when we declare the attributes as private in the class , then they can't be accessed and manipulated directly\n",
    "+ so to access the data we use the getters\n",
    "+ and to assign or manipulate data we use the setters"
   ]
  },
  {
   "cell_type": "code",
   "execution_count": 1,
   "id": "5f8c44ea-5ee9-4095-a70c-f8448922a60c",
   "metadata": {},
   "outputs": [],
   "source": [
    "class enc:\n",
    "    def __init__(self, name , age , dob):\n",
    "        self.__name=name\n",
    "        self.__age=age\n",
    "        self.__dob=dob\n",
    "        \n",
    "    def get_name(self):\n",
    "        print(self.__name)\n",
    "    \n",
    "    def set_name(self,name):\n",
    "        self.__name=name"
   ]
  },
  {
   "cell_type": "code",
   "execution_count": 2,
   "id": "279631fc-3085-4023-a680-30d3fb5c68a8",
   "metadata": {},
   "outputs": [],
   "source": [
    "obj=enc(\"keerat\" , 22 , \"5 March 2002\")"
   ]
  },
  {
   "cell_type": "code",
   "execution_count": 3,
   "id": "0d9ee5c1-018a-4a2c-a710-4865c7b5b3ab",
   "metadata": {},
   "outputs": [
    {
     "name": "stdout",
     "output_type": "stream",
     "text": [
      "keerat\n"
     ]
    }
   ],
   "source": [
    "obj.get_name()"
   ]
  },
  {
   "cell_type": "code",
   "execution_count": 4,
   "id": "6c0fe32a-5468-4e2b-a7bc-16f1985bc5cc",
   "metadata": {},
   "outputs": [],
   "source": [
    "obj.set_name(\"Keeratpreet Singh\")"
   ]
  },
  {
   "cell_type": "code",
   "execution_count": 5,
   "id": "644a7ad9-e0a3-4415-81d6-3212fa813e8c",
   "metadata": {},
   "outputs": [
    {
     "name": "stdout",
     "output_type": "stream",
     "text": [
      "Keeratpreet Singh\n"
     ]
    }
   ],
   "source": [
    "obj.get_name()"
   ]
  },
  {
   "cell_type": "markdown",
   "id": "c21dc9f3-07c1-48ca-8b3a-a8b3c3ca21bb",
   "metadata": {},
   "source": [
    "# solution 5\n",
    "+ Method overriding in Python occurs when a subclass provides a specific implementation of a method that is already defined in its superclass. The purpose of method overriding is to change or extend the behavior of the method in the subclass."
   ]
  },
  {
   "cell_type": "code",
   "execution_count": 6,
   "id": "f9c36f07-7588-4dd3-b02c-ef953643035a",
   "metadata": {},
   "outputs": [],
   "source": [
    "class parent:\n",
    "    def test(self):\n",
    "        print(\"this is parent class\")\n",
    "        \n",
    "class child(parent):\n",
    "    def test(self):\n",
    "        print(\"this is child class\")\n",
    "        \n",
    "child_instance= child()\n",
    "parent_instance=parent()"
   ]
  },
  {
   "cell_type": "code",
   "execution_count": 11,
   "id": "a09c879f-3a27-4ab1-b01d-e89baee5db5a",
   "metadata": {},
   "outputs": [
    {
     "name": "stdout",
     "output_type": "stream",
     "text": [
      "this is child class\n"
     ]
    }
   ],
   "source": [
    "child_instance.test()  "
   ]
  },
  {
   "cell_type": "code",
   "execution_count": 12,
   "id": "a6f7e4cc-b0a8-490e-b019-bb977f5b6c00",
   "metadata": {},
   "outputs": [
    {
     "name": "stdout",
     "output_type": "stream",
     "text": [
      "this is parent class\n"
     ]
    }
   ],
   "source": [
    "parent_instance.test()"
   ]
  },
  {
   "cell_type": "code",
   "execution_count": null,
   "id": "b86ff917-5e81-462a-b7db-033789bfab61",
   "metadata": {},
   "outputs": [],
   "source": []
  }
 ],
 "metadata": {
  "kernelspec": {
   "display_name": "Python 3 (ipykernel)",
   "language": "python",
   "name": "python3"
  },
  "language_info": {
   "codemirror_mode": {
    "name": "ipython",
    "version": 3
   },
   "file_extension": ".py",
   "mimetype": "text/x-python",
   "name": "python",
   "nbconvert_exporter": "python",
   "pygments_lexer": "ipython3",
   "version": "3.10.8"
  }
 },
 "nbformat": 4,
 "nbformat_minor": 5
}
