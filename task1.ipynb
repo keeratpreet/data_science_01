{
 "cells": [
  {
   "cell_type": "markdown",
   "id": "a3c4bdd3-579f-488a-91b3-0fbb14495e1a",
   "metadata": {},
   "source": [
    "# solution 1"
   ]
  },
  {
   "cell_type": "code",
   "execution_count": 2,
   "id": "2ed7a8b2-089f-4369-8a48-dfc2d4dd06e2",
   "metadata": {},
   "outputs": [],
   "source": [
    "list1 = [1,2,3,4, [44,55,66, True], False, (34,56,78,89,34), {1,2,3,3,2,1}, {1:34, \"key2\": [55, 67, 78, 89], 4: (45,\n",
    "22, 61, 34)}, [56, 'data science'], 'Machine Learning']\n",
    "\n"
   ]
  },
  {
   "cell_type": "code",
   "execution_count": 12,
   "id": "4304d64a-762b-41e6-9c3c-23c2a52c0659",
   "metadata": {},
   "outputs": [],
   "source": [
    "def flatten_list(l):\n",
    "    flatenned_list=[]\n",
    "    \n",
    "    def flaten(item):\n",
    "        if isinstance(item , list) or isinstance(item , tuple) or isinstance(item,set) :\n",
    "            for subitem in item :\n",
    "                flaten(subitem)\n",
    "        \n",
    "        elif isinstance(item , dict):\n",
    "            for key,values in item.items():\n",
    "                flaten(key)\n",
    "                flaten(values)\n",
    "        \n",
    "        else :\n",
    "            flatenned_list.append(item)\n",
    "            \n",
    "    flaten(l)\n",
    "    return flatenned_list"
   ]
  },
  {
   "cell_type": "code",
   "execution_count": 13,
   "id": "cb16584f-dd7b-464e-b594-e58837450d7e",
   "metadata": {},
   "outputs": [],
   "source": [
    "list2=flatten_list(list1)"
   ]
  },
  {
   "cell_type": "code",
   "execution_count": 15,
   "id": "92d5cc11-3c76-4037-9852-52c981d93c7d",
   "metadata": {},
   "outputs": [
    {
     "name": "stdout",
     "output_type": "stream",
     "text": [
      "4134711838987085478833841242112000\n"
     ]
    }
   ],
   "source": [
    "ans=1\n",
    "for i in list2:\n",
    "    if type(i)==int:\n",
    "        ans=ans*i\n",
    "\n",
    "print(ans)"
   ]
  },
  {
   "cell_type": "markdown",
   "id": "1c6aee8b-804c-476b-bf7f-7cbbe8aff519",
   "metadata": {},
   "source": [
    "# solution 2"
   ]
  },
  {
   "cell_type": "code",
   "execution_count": 40,
   "id": "52e78835-5315-42be-9b11-eb54bd0ba3ef",
   "metadata": {},
   "outputs": [],
   "source": [
    "s=\"I want to become a Data Scientist\""
   ]
  },
  {
   "cell_type": "code",
   "execution_count": 41,
   "id": "def468f4-5039-47b5-8c12-5388444ed5c3",
   "metadata": {},
   "outputs": [],
   "source": [
    "st=s.lower()"
   ]
  },
  {
   "cell_type": "code",
   "execution_count": 43,
   "id": "ca0e0ee3-6707-4f6a-a5d4-edaf42c40bda",
   "metadata": {},
   "outputs": [
    {
     "name": "stdout",
     "output_type": "stream",
     "text": [
      "r$dzmg$gl$yvxlnv$z$wzgz$hxrvmgrhg\n"
     ]
    }
   ],
   "source": [
    "enc_msg=\"\"\n",
    "ref_val=ord(\"z\")\n",
    "for i in st :\n",
    "    if(i==\" \"): \n",
    "        enc_msg = enc_msg + \"$\"\n",
    "    else :\n",
    "        ascii_val = ord(i)\n",
    "        con_val = ascii_val-ord(\"a\")\n",
    "        new_val = ref_val - con_val\n",
    "        char=chr(new_val)\n",
    "        enc_msg = enc_msg+char\n",
    "\n",
    "print(enc_msg)"
   ]
  },
  {
   "cell_type": "code",
   "execution_count": null,
   "id": "c5ef64b7-5a59-4287-9ee4-108f4377f658",
   "metadata": {},
   "outputs": [],
   "source": []
  },
  {
   "cell_type": "code",
   "execution_count": null,
   "id": "acfa2503-8a60-4c16-9c37-2ddb7573b90e",
   "metadata": {},
   "outputs": [],
   "source": []
  }
 ],
 "metadata": {
  "kernelspec": {
   "display_name": "Python 3 (ipykernel)",
   "language": "python",
   "name": "python3"
  },
  "language_info": {
   "codemirror_mode": {
    "name": "ipython",
    "version": 3
   },
   "file_extension": ".py",
   "mimetype": "text/x-python",
   "name": "python",
   "nbconvert_exporter": "python",
   "pygments_lexer": "ipython3",
   "version": "3.10.8"
  }
 },
 "nbformat": 4,
 "nbformat_minor": 5
}
