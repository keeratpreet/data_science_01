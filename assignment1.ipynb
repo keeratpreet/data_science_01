{
 "cells": [
  {
   "cell_type": "markdown",
   "id": "513ff193-e202-4123-8a21-422b84b39995",
   "metadata": {},
   "source": [
    "# solution-1"
   ]
  },
  {
   "cell_type": "markdown",
   "id": "da700b99-6ad7-4c97-a849-5701a51ed00f",
   "metadata": {},
   "source": [
    "1) The tuple is a ordered and immutable set of items in python . \n",
    "   it is generally used to store data like a list \n",
    "   but unlike a list is is immutable , i.e we cannot add any element at a particular index"
   ]
  },
  {
   "cell_type": "markdown",
   "id": "d69fdbf6-c49d-42d5-9fcc-9028581fe22b",
   "metadata": {},
   "source": [
    "# solution-2"
   ]
  },
  {
   "cell_type": "markdown",
   "id": "70cae82c-6dc2-4bf5-aafb-46883a74a42d",
   "metadata": {},
   "source": [
    "The two tuple methods in python are \n",
    "1) count \n",
    "2) index\n",
    "\n",
    "the count gives us the no. of times a particular element has occured\n",
    "the index returns the index where the element has occured for the first time .\n",
    "\n",
    "eg: a=(1,2,2,3,4,5,1,1) \n",
    "    here the a.count(1) will give 3 \n",
    "    a.index(1) will return 0 \n",
    "    \n",
    "the reason that there are only limited methods in tuples is because of its immutable nature "
   ]
  },
  {
   "cell_type": "code",
   "execution_count": 2,
   "id": "9e3c57b5-6204-4bcd-9a1d-edf7ae1ac70a",
   "metadata": {},
   "outputs": [],
   "source": [
    "a=(1,2,2,3,4,5,1,1) "
   ]
  },
  {
   "cell_type": "code",
   "execution_count": 3,
   "id": "4a2940d1-13f1-4c4d-9b86-fe1348334362",
   "metadata": {},
   "outputs": [
    {
     "data": {
      "text/plain": [
       "3"
      ]
     },
     "execution_count": 3,
     "metadata": {},
     "output_type": "execute_result"
    }
   ],
   "source": [
    "a.count(1)"
   ]
  },
  {
   "cell_type": "code",
   "execution_count": 4,
   "id": "d8a8bad5-ff83-46bb-9e47-edb2ef758f5b",
   "metadata": {},
   "outputs": [
    {
     "data": {
      "text/plain": [
       "0"
      ]
     },
     "execution_count": 4,
     "metadata": {},
     "output_type": "execute_result"
    }
   ],
   "source": [
    " a.index(1)"
   ]
  },
  {
   "cell_type": "markdown",
   "id": "3bae36fb-ff7f-4a96-9051-a97769a04098",
   "metadata": {},
   "source": [
    "# solution-3"
   ]
  },
  {
   "cell_type": "markdown",
   "id": "99ce3422-447d-4753-a59c-f716591e3058",
   "metadata": {},
   "source": [
    "sets datatype in python doesnot allow the duplicate elements in it\n"
   ]
  },
  {
   "cell_type": "code",
   "execution_count": 6,
   "id": "baf08f32-4a33-4165-a931-02cc26766446",
   "metadata": {},
   "outputs": [],
   "source": [
    "List = [1, 1, 1, 2, 1, 3, 1, 4, 2, 1, 2, 2, 2, 3, 2, 4, 3, 1, 3, 2, 3, 3, 3, 4, 4, 1, 4, 2, 4, 3, 4, 4]"
   ]
  },
  {
   "cell_type": "markdown",
   "id": "50328aa3-0464-4f9b-8c9b-2bd4de374ba0",
   "metadata": {},
   "source": [
    "we need to convert it into the set and remove the dupicate elements"
   ]
  },
  {
   "cell_type": "code",
   "execution_count": 7,
   "id": "5afc2da7-b87b-4ff8-89e9-81d68b242714",
   "metadata": {},
   "outputs": [],
   "source": [
    "s = set(List)"
   ]
  },
  {
   "cell_type": "code",
   "execution_count": 8,
   "id": "a1ee20f1-3591-4777-9c76-dbade17971a8",
   "metadata": {},
   "outputs": [
    {
     "data": {
      "text/plain": [
       "{1, 2, 3, 4}"
      ]
     },
     "execution_count": 8,
     "metadata": {},
     "output_type": "execute_result"
    }
   ],
   "source": [
    "s"
   ]
  },
  {
   "cell_type": "code",
   "execution_count": null,
   "id": "44c43a50-cb16-41f5-ab0b-66b70b2a1c0c",
   "metadata": {},
   "outputs": [],
   "source": []
  },
  {
   "cell_type": "markdown",
   "id": "57d88383-1ba8-4c80-9d38-4639026e0743",
   "metadata": {},
   "source": [
    "# solution-4"
   ]
  },
  {
   "cell_type": "code",
   "execution_count": 9,
   "id": "53ce0da6-f893-4af9-b802-5e1301c15192",
   "metadata": {},
   "outputs": [],
   "source": [
    "s1={1,2,3,4,5}\n",
    "s2={1,2,6,7,8}"
   ]
  },
  {
   "cell_type": "code",
   "execution_count": 11,
   "id": "d4e29641-c1c5-4ac6-860e-a9bb363fa56c",
   "metadata": {},
   "outputs": [
    {
     "data": {
      "text/plain": [
       "{1, 2, 3, 4, 5, 6, 7, 8}"
      ]
     },
     "execution_count": 11,
     "metadata": {},
     "output_type": "execute_result"
    }
   ],
   "source": [
    "s1.union(s2)"
   ]
  },
  {
   "cell_type": "code",
   "execution_count": 12,
   "id": "a9797e99-d44c-4230-bd97-45e45991cf3a",
   "metadata": {},
   "outputs": [
    {
     "data": {
      "text/plain": [
       "{1, 2, 3, 4, 5}"
      ]
     },
     "execution_count": 12,
     "metadata": {},
     "output_type": "execute_result"
    }
   ],
   "source": [
    "s1"
   ]
  },
  {
   "cell_type": "code",
   "execution_count": 13,
   "id": "ccca4db8-be5c-4c2d-a4e2-eae3489d10fd",
   "metadata": {},
   "outputs": [],
   "source": [
    "s1.update(s2)"
   ]
  },
  {
   "cell_type": "code",
   "execution_count": 14,
   "id": "0a444906-06e3-4254-8f01-ab1ab12c6a36",
   "metadata": {},
   "outputs": [
    {
     "data": {
      "text/plain": [
       "{1, 2, 3, 4, 5, 6, 7, 8}"
      ]
     },
     "execution_count": 14,
     "metadata": {},
     "output_type": "execute_result"
    }
   ],
   "source": [
    "s1"
   ]
  },
  {
   "cell_type": "markdown",
   "id": "91b4a422-b090-47d5-b421-4ea176f96d98",
   "metadata": {},
   "source": [
    "here we can observe that the union function is not adding the newer elements to the original set whereas the update method updates the original set"
   ]
  },
  {
   "cell_type": "markdown",
   "id": "00b2b6fc-eb74-4346-ad1f-446b117d372d",
   "metadata": {},
   "source": [
    "\n",
    "# solution-5"
   ]
  },
  {
   "cell_type": "markdown",
   "id": "7c199fbb-2c24-47b4-ab1d-cadc31ee4829",
   "metadata": {},
   "source": [
    "a dictionary in python is used to store the key value pairs , where each key corresponds to a value it is an unordered collection of items\n",
    "\n",
    "dictionary is unordered and mutable"
   ]
  },
  {
   "cell_type": "code",
   "execution_count": 15,
   "id": "7c8a5e54-9d60-49bc-96be-9cf31267a21b",
   "metadata": {},
   "outputs": [],
   "source": [
    "dict={\"name\" : \"keerat\" , \"age\" : 22 }"
   ]
  },
  {
   "cell_type": "code",
   "execution_count": 16,
   "id": "43754c18-d330-4337-a35a-c5f2989f0caf",
   "metadata": {},
   "outputs": [
    {
     "data": {
      "text/plain": [
       "{'name': 'keerat', 'age': 22}"
      ]
     },
     "execution_count": 16,
     "metadata": {},
     "output_type": "execute_result"
    }
   ],
   "source": [
    "dict"
   ]
  },
  {
   "cell_type": "markdown",
   "id": "840666ce-3689-4659-8da8-c00a3dab1b67",
   "metadata": {},
   "source": [
    "\n",
    "# solution-6"
   ]
  },
  {
   "cell_type": "markdown",
   "id": "1f419535-01f1-44a5-b5ec-bc6b9d889637",
   "metadata": {},
   "source": [
    "yes creating a nested dictionary is possible\n",
    "\n",
    "but we need to make sure that only the value can be a dictionay (from the key:value pair)"
   ]
  },
  {
   "cell_type": "code",
   "execution_count": 17,
   "id": "984b89af-535d-4e6c-b196-58037703f511",
   "metadata": {},
   "outputs": [],
   "source": [
    "a={ \"key\" : {\"name\":\"keerat\" , \"age\":22}}"
   ]
  },
  {
   "cell_type": "code",
   "execution_count": 18,
   "id": "9bf233c1-fa75-4ec2-8a08-ebe8da2c3f14",
   "metadata": {},
   "outputs": [
    {
     "data": {
      "text/plain": [
       "{'key': {'name': 'keerat', 'age': 22}}"
      ]
     },
     "execution_count": 18,
     "metadata": {},
     "output_type": "execute_result"
    }
   ],
   "source": [
    "a"
   ]
  },
  {
   "cell_type": "markdown",
   "id": "ca13b727-e420-4ad4-beb7-3fa40bd2f292",
   "metadata": {},
   "source": [
    "\n",
    "# solution-7"
   ]
  },
  {
   "cell_type": "code",
   "execution_count": 19,
   "id": "ea5c78b8-a7a6-44a6-8a86-ef1911df98e9",
   "metadata": {},
   "outputs": [],
   "source": [
    "dict1 = {'language' : 'Python', 'course': 'Data Science Masters'} ##initial dictionary "
   ]
  },
  {
   "cell_type": "code",
   "execution_count": 20,
   "id": "87346b5e-0c4e-4951-a5bd-0cf62146273a",
   "metadata": {},
   "outputs": [
    {
     "data": {
      "text/plain": [
       "['Python', 'Machine Learning', 'Deep Learning']"
      ]
     },
     "execution_count": 20,
     "metadata": {},
     "output_type": "execute_result"
    }
   ],
   "source": [
    "dict1.setdefault('topics', ['Python', 'Machine Learning', 'Deep Learning'])"
   ]
  },
  {
   "cell_type": "code",
   "execution_count": 21,
   "id": "39cc3889-ee75-41ca-be87-0fc34a4dde14",
   "metadata": {},
   "outputs": [
    {
     "data": {
      "text/plain": [
       "{'language': 'Python',\n",
       " 'course': 'Data Science Masters',\n",
       " 'topics': ['Python', 'Machine Learning', 'Deep Learning']}"
      ]
     },
     "execution_count": 21,
     "metadata": {},
     "output_type": "execute_result"
    }
   ],
   "source": [
    "dict1"
   ]
  },
  {
   "cell_type": "markdown",
   "id": "927763e9-c9a9-499d-a00f-f424d1f7d199",
   "metadata": {},
   "source": [
    "\n",
    "\n",
    "# solution-8"
   ]
  },
  {
   "cell_type": "markdown",
   "id": "5df8161b-5e1d-4d73-812b-d44fc94e0970",
   "metadata": {},
   "source": [
    "the three views available in the dictionary are the\n",
    "\n",
    "1) key views\n",
    "2) value views\n",
    "3) item views"
   ]
  },
  {
   "cell_type": "markdown",
   "id": "8a0c1253-325c-4ac2-b8af-b9eddd7a5949",
   "metadata": {},
   "source": [
    "1) key displays the keys ,\n",
    "2) values displays all the values\n",
    "3) and items displays all the key:value pairs"
   ]
  },
  {
   "cell_type": "code",
   "execution_count": 22,
   "id": "0d8a952c-a4db-4463-ac0c-7ca10765011c",
   "metadata": {},
   "outputs": [],
   "source": [
    "dict1 = {'Sport': 'Cricket' , 'Teams': ['India', 'Australia', 'England', 'South Africa', 'Sri Lanka', 'New Zealand']}"
   ]
  },
  {
   "cell_type": "code",
   "execution_count": 23,
   "id": "3d9ee6d3-d125-48bf-a45c-9f627bf05128",
   "metadata": {},
   "outputs": [
    {
     "data": {
      "text/plain": [
       "dict_keys(['Sport', 'Teams'])"
      ]
     },
     "execution_count": 23,
     "metadata": {},
     "output_type": "execute_result"
    }
   ],
   "source": [
    "dict1.keys()"
   ]
  },
  {
   "cell_type": "code",
   "execution_count": 24,
   "id": "bc7e9b30-e5f0-4569-9f0c-612cae4fcec2",
   "metadata": {},
   "outputs": [
    {
     "data": {
      "text/plain": [
       "dict_values(['Cricket', ['India', 'Australia', 'England', 'South Africa', 'Sri Lanka', 'New Zealand']])"
      ]
     },
     "execution_count": 24,
     "metadata": {},
     "output_type": "execute_result"
    }
   ],
   "source": [
    "dict1.values()"
   ]
  },
  {
   "cell_type": "code",
   "execution_count": 25,
   "id": "25206dec-c402-48ec-8b1a-c091df1e15f7",
   "metadata": {},
   "outputs": [
    {
     "data": {
      "text/plain": [
       "dict_items([('Sport', 'Cricket'), ('Teams', ['India', 'Australia', 'England', 'South Africa', 'Sri Lanka', 'New Zealand'])])"
      ]
     },
     "execution_count": 25,
     "metadata": {},
     "output_type": "execute_result"
    }
   ],
   "source": [
    "dict1.items()"
   ]
  },
  {
   "cell_type": "code",
   "execution_count": null,
   "id": "85e05e14-27a2-461e-9099-3d2395bf1a2b",
   "metadata": {},
   "outputs": [],
   "source": []
  }
 ],
 "metadata": {
  "kernelspec": {
   "display_name": "Python 3 (ipykernel)",
   "language": "python",
   "name": "python3"
  },
  "language_info": {
   "codemirror_mode": {
    "name": "ipython",
    "version": 3
   },
   "file_extension": ".py",
   "mimetype": "text/x-python",
   "name": "python",
   "nbconvert_exporter": "python",
   "pygments_lexer": "ipython3",
   "version": "3.10.8"
  }
 },
 "nbformat": 4,
 "nbformat_minor": 5
}
